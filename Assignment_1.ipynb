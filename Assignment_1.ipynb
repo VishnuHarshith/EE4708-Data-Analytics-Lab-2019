{
 "cells": [
  {
   "cell_type": "markdown",
   "metadata": {},
   "source": [
    "# Python Basic Exercises"
   ]
  },
  {
   "cell_type": "markdown",
   "metadata": {},
   "source": [
    "1) Create a function that acts as a simple calculator with operations addition, subtraction, multiplication and division.\n",
    "\n",
    "If the operation is not speciﬁed, default to multiplication. If the operation is misspecified, return an error message.\n",
    "        \n",
    "        Ex: \n",
    "calculator(3,5,\"multiply\") returns 15 \n",
    "\n",
    "calculator(3,5) returns 15  \n",
    "\n",
    "calculator(3, 5, \"something\") returns error message.\n",
    "\n",
    "\n",
    "\n",
    "\n",
    "\n"
   ]
  },
  {
   "cell_type": "code",
   "execution_count": 47,
   "metadata": {},
   "outputs": [],
   "source": [
    "def calc(num1,num2,string = 'multiplication'):\n",
    "    if string == 'addition':\n",
    "        return num1+num2\n",
    "    if string == 'subtraction':\n",
    "        return num1-num2\n",
    "    if string == 'division':\n",
    "        return num1/num2\n",
    "    if string == 'multiplication':\n",
    "        return num1*num2\n",
    "    else:\n",
    "        return \"invalid\""
   ]
  },
  {
   "cell_type": "code",
   "execution_count": 51,
   "metadata": {},
   "outputs": [
    {
     "data": {
      "text/plain": [
       "'invalid'"
      ]
     },
     "execution_count": 51,
     "metadata": {},
     "output_type": "execute_result"
    }
   ],
   "source": [
    "calc(3,5, 'divisio')"
   ]
  },
  {
   "cell_type": "markdown",
   "metadata": {},
   "source": [
    "2) a) Given a list of numbers, return a list where all adjacent duplicate elements have been removed.\n",
    "\n",
    "Ex:\n",
    "\n",
    "[2, 2, 2, 3, 2] returns [ 2, 3, 2]. "
   ]
  },
  {
   "cell_type": "code",
   "execution_count": 58,
   "metadata": {},
   "outputs": [],
   "source": [
    "def duplicate(arr):\n",
    "    prev = [arr[0]]\n",
    "    for i in range(len(arr)-1):\n",
    "        if arr[i+1] != arr[i]:\n",
    "            prev.append(arr[i+1])\n",
    "    return prev"
   ]
  },
  {
   "cell_type": "code",
   "execution_count": 59,
   "metadata": {},
   "outputs": [
    {
     "data": {
      "text/plain": [
       "[2, 3, 2]"
      ]
     },
     "execution_count": 59,
     "metadata": {},
     "output_type": "execute_result"
    }
   ],
   "source": [
    "array = [2,2,2,3,2]\n",
    "duplicate(array)"
   ]
  },
  {
   "cell_type": "markdown",
   "metadata": {},
   "source": [
    "b) Remove all duplicate values (adjacent or not)\n",
    "\n",
    "Ex:\n",
    "\n",
    "[1, 2, 2, 3, 2,3,1] returns [1, 2, 3] "
   ]
  },
  {
   "cell_type": "code",
   "execution_count": 89,
   "metadata": {},
   "outputs": [],
   "source": [
    "def dupli(arr):\n",
    "    prev = []\n",
    "    i = 0\n",
    "    while i < len(arr):\n",
    "        if (arr[i] not in prev):\n",
    "            prev.append(arr[i])\n",
    "        i+=1\n",
    "    return prev"
   ]
  },
  {
   "cell_type": "code",
   "execution_count": 92,
   "metadata": {},
   "outputs": [
    {
     "data": {
      "text/plain": [
       "[1, 2, 3, 4, 5, 6, 10, 9]"
      ]
     },
     "execution_count": 92,
     "metadata": {},
     "output_type": "execute_result"
    }
   ],
   "source": [
    "arr =[1, 2, 2, 3, 2,3,1,4,5,5,6,10,10,9]\n",
    "dupli(arr)"
   ]
  },
  {
   "cell_type": "markdown",
   "metadata": {},
   "source": [
    "3) Given the array:  X= np.random.randn(3,5)   \\# creates random normals in 3x5 array\n",
    "\n",
    "For each column find the row index of the maximum value using loop.\n"
   ]
  },
  {
   "cell_type": "code",
   "execution_count": 6,
   "metadata": {},
   "outputs": [],
   "source": [
    "import numpy as np\n",
    "X = np.random.randn(3,5)"
   ]
  },
  {
   "cell_type": "code",
   "execution_count": 44,
   "metadata": {},
   "outputs": [],
   "source": [
    "def maxrowindex(arr): \n",
    "      \n",
    "    # get number of rows and columns \n",
    "    no_of_rows, no_of_columns = arr.shape\n",
    "#     no_of_rows = len(arr) \n",
    "#     no_of_column = len(arr[0]) \n",
    "    for j in range(no_of_column):\n",
    "        max1 = -1000\n",
    "        for i in range(no_of_rows): \n",
    "             if arr[i][j] > max1 : \n",
    "                    max1 = arr[i][j] \n",
    "        print(np.where(arr == max1))"
   ]
  },
  {
   "cell_type": "code",
   "execution_count": 45,
   "metadata": {},
   "outputs": [
    {
     "name": "stdout",
     "output_type": "stream",
     "text": [
      "(array([0], dtype=int64), array([0], dtype=int64))\n",
      "(array([1], dtype=int64), array([1], dtype=int64))\n",
      "(array([2], dtype=int64), array([2], dtype=int64))\n",
      "(array([0], dtype=int64), array([3], dtype=int64))\n",
      "(array([0], dtype=int64), array([4], dtype=int64))\n"
     ]
    }
   ],
   "source": [
    "maxrowindex(X)"
   ]
  },
  {
   "cell_type": "code",
   "execution_count": 46,
   "metadata": {},
   "outputs": [
    {
     "data": {
      "text/plain": [
       "array([[ 1.51024592,  0.47691392, -1.09468683,  0.55548431,  1.49053684],\n",
       "       [-0.48397111,  1.16100117, -1.23906854, -0.73726407, -0.61319215],\n",
       "       [-0.03522472, -0.85145015, -0.85038795, -0.40858181, -0.04872963]])"
      ]
     },
     "execution_count": 46,
     "metadata": {},
     "output_type": "execute_result"
    }
   ],
   "source": [
    "X\n"
   ]
  },
  {
   "cell_type": "markdown",
   "metadata": {},
   "source": [
    "4) Get csv from the following link,\n",
    "https://raw.github.com/neurospin/pystatsml/master/datasets/salary_table.csv\n",
    "\n",
    "Create table from the csv file.\n",
    "\n",
    "Check for missing data and remove those entries from the table."
   ]
  },
  {
   "cell_type": "code",
   "execution_count": 2,
   "metadata": {},
   "outputs": [],
   "source": [
    "import pandas as pd\n",
    "df  = pd.read_csv(\"salary_table.csv\")"
   ]
  },
  {
   "cell_type": "code",
   "execution_count": 98,
   "metadata": {},
   "outputs": [],
   "source": [
    "df = df.replace('N', np.NaN)"
   ]
  },
  {
   "cell_type": "code",
   "execution_count": 99,
   "metadata": {},
   "outputs": [
    {
     "data": {
      "text/html": [
       "<div>\n",
       "<style scoped>\n",
       "    .dataframe tbody tr th:only-of-type {\n",
       "        vertical-align: middle;\n",
       "    }\n",
       "\n",
       "    .dataframe tbody tr th {\n",
       "        vertical-align: top;\n",
       "    }\n",
       "\n",
       "    .dataframe thead th {\n",
       "        text-align: right;\n",
       "    }\n",
       "</style>\n",
       "<table border=\"1\" class=\"dataframe\">\n",
       "  <thead>\n",
       "    <tr style=\"text-align: right;\">\n",
       "      <th></th>\n",
       "      <th>salary</th>\n",
       "      <th>experience</th>\n",
       "      <th>education</th>\n",
       "      <th>management</th>\n",
       "    </tr>\n",
       "  </thead>\n",
       "  <tbody>\n",
       "    <tr>\n",
       "      <th>0</th>\n",
       "      <td>13876</td>\n",
       "      <td>1</td>\n",
       "      <td>Bachelor</td>\n",
       "      <td>Y</td>\n",
       "    </tr>\n",
       "    <tr>\n",
       "      <th>2</th>\n",
       "      <td>18701</td>\n",
       "      <td>1</td>\n",
       "      <td>Ph.D</td>\n",
       "      <td>Y</td>\n",
       "    </tr>\n",
       "    <tr>\n",
       "      <th>5</th>\n",
       "      <td>20872</td>\n",
       "      <td>2</td>\n",
       "      <td>Master</td>\n",
       "      <td>Y</td>\n",
       "    </tr>\n",
       "    <tr>\n",
       "      <th>10</th>\n",
       "      <td>14975</td>\n",
       "      <td>3</td>\n",
       "      <td>Bachelor</td>\n",
       "      <td>Y</td>\n",
       "    </tr>\n",
       "    <tr>\n",
       "      <th>11</th>\n",
       "      <td>21371</td>\n",
       "      <td>3</td>\n",
       "      <td>Master</td>\n",
       "      <td>Y</td>\n",
       "    </tr>\n",
       "    <tr>\n",
       "      <th>12</th>\n",
       "      <td>19800</td>\n",
       "      <td>3</td>\n",
       "      <td>Ph.D</td>\n",
       "      <td>Y</td>\n",
       "    </tr>\n",
       "    <tr>\n",
       "      <th>14</th>\n",
       "      <td>20263</td>\n",
       "      <td>4</td>\n",
       "      <td>Ph.D</td>\n",
       "      <td>Y</td>\n",
       "    </tr>\n",
       "    <tr>\n",
       "      <th>19</th>\n",
       "      <td>15965</td>\n",
       "      <td>5</td>\n",
       "      <td>Bachelor</td>\n",
       "      <td>Y</td>\n",
       "    </tr>\n",
       "    <tr>\n",
       "      <th>21</th>\n",
       "      <td>21352</td>\n",
       "      <td>6</td>\n",
       "      <td>Ph.D</td>\n",
       "      <td>Y</td>\n",
       "    </tr>\n",
       "    <tr>\n",
       "      <th>24</th>\n",
       "      <td>16978</td>\n",
       "      <td>7</td>\n",
       "      <td>Bachelor</td>\n",
       "      <td>Y</td>\n",
       "    </tr>\n",
       "    <tr>\n",
       "      <th>26</th>\n",
       "      <td>17404</td>\n",
       "      <td>8</td>\n",
       "      <td>Bachelor</td>\n",
       "      <td>Y</td>\n",
       "    </tr>\n",
       "    <tr>\n",
       "      <th>27</th>\n",
       "      <td>22184</td>\n",
       "      <td>8</td>\n",
       "      <td>Ph.D</td>\n",
       "      <td>Y</td>\n",
       "    </tr>\n",
       "    <tr>\n",
       "      <th>31</th>\n",
       "      <td>23174</td>\n",
       "      <td>10</td>\n",
       "      <td>Ph.D</td>\n",
       "      <td>Y</td>\n",
       "    </tr>\n",
       "    <tr>\n",
       "      <th>32</th>\n",
       "      <td>23780</td>\n",
       "      <td>10</td>\n",
       "      <td>Master</td>\n",
       "      <td>Y</td>\n",
       "    </tr>\n",
       "    <tr>\n",
       "      <th>33</th>\n",
       "      <td>25410</td>\n",
       "      <td>11</td>\n",
       "      <td>Master</td>\n",
       "      <td>Y</td>\n",
       "    </tr>\n",
       "    <tr>\n",
       "      <th>36</th>\n",
       "      <td>24170</td>\n",
       "      <td>12</td>\n",
       "      <td>Ph.D</td>\n",
       "      <td>Y</td>\n",
       "    </tr>\n",
       "    <tr>\n",
       "      <th>38</th>\n",
       "      <td>26330</td>\n",
       "      <td>13</td>\n",
       "      <td>Master</td>\n",
       "      <td>Y</td>\n",
       "    </tr>\n",
       "    <tr>\n",
       "      <th>40</th>\n",
       "      <td>25685</td>\n",
       "      <td>15</td>\n",
       "      <td>Ph.D</td>\n",
       "      <td>Y</td>\n",
       "    </tr>\n",
       "    <tr>\n",
       "      <th>41</th>\n",
       "      <td>27837</td>\n",
       "      <td>16</td>\n",
       "      <td>Master</td>\n",
       "      <td>Y</td>\n",
       "    </tr>\n",
       "  </tbody>\n",
       "</table>\n",
       "</div>"
      ],
      "text/plain": [
       "    salary  experience education management\n",
       "0    13876           1  Bachelor          Y\n",
       "2    18701           1      Ph.D          Y\n",
       "5    20872           2    Master          Y\n",
       "10   14975           3  Bachelor          Y\n",
       "11   21371           3    Master          Y\n",
       "12   19800           3      Ph.D          Y\n",
       "14   20263           4      Ph.D          Y\n",
       "19   15965           5  Bachelor          Y\n",
       "21   21352           6      Ph.D          Y\n",
       "24   16978           7  Bachelor          Y\n",
       "26   17404           8  Bachelor          Y\n",
       "27   22184           8      Ph.D          Y\n",
       "31   23174          10      Ph.D          Y\n",
       "32   23780          10    Master          Y\n",
       "33   25410          11    Master          Y\n",
       "36   24170          12      Ph.D          Y\n",
       "38   26330          13    Master          Y\n",
       "40   25685          15      Ph.D          Y\n",
       "41   27837          16    Master          Y"
      ]
     },
     "execution_count": 99,
     "metadata": {},
     "output_type": "execute_result"
    }
   ],
   "source": [
    "df.dropna()"
   ]
  },
  {
   "cell_type": "markdown",
   "metadata": {},
   "source": [
    "6) Use the file data.txt. Read, the ﬁle and count the occurrences of each word within the ﬁle. Store the words’ occurrence number in a dictionary. "
   ]
  },
  {
   "cell_type": "code",
   "execution_count": 77,
   "metadata": {},
   "outputs": [],
   "source": [
    "with open (\"text.txt.txt\", \"r\") as myfile:\n",
    "    data=myfile.readlines()"
   ]
  },
  {
   "cell_type": "code",
   "execution_count": 78,
   "metadata": {},
   "outputs": [
    {
     "data": {
      "text/plain": [
       "[\"Data analysis is a process of inspecting, cleansing, transforming and modeling data with the goal of discovering useful information, informing conclusions and supporting decision-making. Data analysis has multiple facets and approaches, encompassing diverse techniques under a variety of names, and is used in different business, science, and social science domains. In today's business world, data analysis plays a role in making decisions more scientific and helping businesses operate more effectively.\"]"
      ]
     },
     "execution_count": 78,
     "metadata": {},
     "output_type": "execute_result"
    }
   ],
   "source": [
    "data"
   ]
  },
  {
   "cell_type": "code",
   "execution_count": 86,
   "metadata": {},
   "outputs": [],
   "source": [
    "def word_count(str):\n",
    "    counts = dict()\n",
    "    words = str.split()\n",
    "\n",
    "    for word in words:\n",
    "        if word in counts:\n",
    "            counts[word] += 1\n",
    "        else:\n",
    "            counts[word] = 1\n",
    "\n",
    "    return counts\n",
    "string  = data[0]"
   ]
  },
  {
   "cell_type": "code",
   "execution_count": 87,
   "metadata": {},
   "outputs": [
    {
     "data": {
      "text/plain": [
       "{'Data': 2,\n",
       " 'analysis': 3,\n",
       " 'is': 2,\n",
       " 'a': 3,\n",
       " 'process': 1,\n",
       " 'of': 3,\n",
       " 'inspecting,': 1,\n",
       " 'cleansing,': 1,\n",
       " 'transforming': 1,\n",
       " 'and': 6,\n",
       " 'modeling': 1,\n",
       " 'data': 2,\n",
       " 'with': 1,\n",
       " 'the': 1,\n",
       " 'goal': 1,\n",
       " 'discovering': 1,\n",
       " 'useful': 1,\n",
       " 'information,': 1,\n",
       " 'informing': 1,\n",
       " 'conclusions': 1,\n",
       " 'supporting': 1,\n",
       " 'decision-making.': 1,\n",
       " 'has': 1,\n",
       " 'multiple': 1,\n",
       " 'facets': 1,\n",
       " 'approaches,': 1,\n",
       " 'encompassing': 1,\n",
       " 'diverse': 1,\n",
       " 'techniques': 1,\n",
       " 'under': 1,\n",
       " 'variety': 1,\n",
       " 'names,': 1,\n",
       " 'used': 1,\n",
       " 'in': 2,\n",
       " 'different': 1,\n",
       " 'business,': 1,\n",
       " 'science,': 1,\n",
       " 'social': 1,\n",
       " 'science': 1,\n",
       " 'domains.': 1,\n",
       " 'In': 1,\n",
       " \"today's\": 1,\n",
       " 'business': 1,\n",
       " 'world,': 1,\n",
       " 'plays': 1,\n",
       " 'role': 1,\n",
       " 'making': 1,\n",
       " 'decisions': 1,\n",
       " 'more': 2,\n",
       " 'scientific': 1,\n",
       " 'helping': 1,\n",
       " 'businesses': 1,\n",
       " 'operate': 1,\n",
       " 'effectively.': 1}"
      ]
     },
     "execution_count": 87,
     "metadata": {},
     "output_type": "execute_result"
    }
   ],
   "source": [
    "word_count(string)"
   ]
  },
  {
   "cell_type": "code",
   "execution_count": 82,
   "metadata": {},
   "outputs": [],
   "source": []
  },
  {
   "cell_type": "code",
   "execution_count": null,
   "metadata": {},
   "outputs": [],
   "source": []
  }
 ],
 "metadata": {
  "kernelspec": {
   "display_name": "Python 3",
   "language": "python",
   "name": "python3"
  },
  "language_info": {
   "codemirror_mode": {
    "name": "ipython",
    "version": 3
   },
   "file_extension": ".py",
   "mimetype": "text/x-python",
   "name": "python",
   "nbconvert_exporter": "python",
   "pygments_lexer": "ipython3",
   "version": "3.7.3"
  }
 },
 "nbformat": 4,
 "nbformat_minor": 2
}
