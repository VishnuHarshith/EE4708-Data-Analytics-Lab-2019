{
 "cells": [
  {
   "cell_type": "markdown",
   "metadata": {
    "colab_type": "text",
    "id": "OYeoMBuaLHg7"
   },
   "source": [
    "# Support Vector Machines (SVM)"
   ]
  },
  {
   "cell_type": "markdown",
   "metadata": {
    "colab_type": "text",
    "id": "TJqsF9TDLOEy"
   },
   "source": [
    "### Question 1:  \n",
    "### Max Margin Classifier in 1D\n",
    "**Let's assume two classes in 1D dimension. Class 1 : 9,10,11,12,13,14; Class -1 : -9,-10,-11,-12,-13,-14<br> <br>a) Plot these points. <br><br>b) Are they linearly separable?<br><br>c) Assume a threshold t. Points to one side of the threshold belong to class -1 and points to the other side of the threshold belong to class 1. Find the range of values of t which classifies the two classes completely. <br><br>d) Let's say y_i is the label and can take values -1 or 1. Max margin classifiers aims to find a supporting hyperplane (a boundary between the two classes) such the distance (or margin) from points belonging to either class is maximised. The points closest to the boundary on either side are termed as support vectors. Maximising the perpendicular distance from the support vectors to line will achieve the goal of max margin classifier. Our objective/cost function for the 1D case is cost = max{min(y_i(t-x_i))} where t is the threhold, y_i is the label and x_i is the data point. Plot the cost as a function of the threshold for the range of values of t found in the (c) part. <br><br>e) For what t is the cost maximum? This is the threshold that optimally classifies the two datasets. Now plot the threshold, and the two classes on a graph. Assign appropriate colours to distinguish the two classes and the threshold.<br><br>f) What are the support vectors?<br><br>g) Comment on the threshold. Is it the mid point of the two support vectors in this linearly separable 1D case?**"
   ]
  },
  {
   "cell_type": "code",
   "execution_count": 74,
   "metadata": {
    "colab": {},
    "colab_type": "code",
    "id": "JH3BYGuoL5qT"
   },
   "outputs": [
    {
     "data": {
      "text/plain": [
       "<matplotlib.legend.Legend at 0x7fa6051d62e8>"
      ]
     },
     "execution_count": 74,
     "metadata": {},
     "output_type": "execute_result"
    },
    {
     "data": {
      "image/png": "[encoded data removed]",
      "text/plain": [
       "<Figure size 432x288 with 1 Axes>"
      ]
     },
     "metadata": {
      "needs_background": "light"
     },
     "output_type": "display_data"
    }
   ],
   "source": [
    "import numpy as np\n",
    "import matplotlib.pyplot as plt\n",
    "arr1 = np.array([9,10,11,12,13,14])\n",
    "arr2 = np.array([-9,-10,-11,-12,-13,-14])\n",
    "arr3  = np.zeros(6)\n",
    "plt.plot(arr1,arr3, label = 'Class1')\n",
    "plt.plot(arr2,arr3, label = 'Class -1')\n",
    "plt.legend()"
   ]
  },
  {
   "cell_type": "markdown",
   "metadata": {},
   "source": [
    "Yes, they are linearly separable"
   ]
  },
  {
   "cell_type": "markdown",
   "metadata": {},
   "source": [
    "The range of t can be (-9, 9)"
   ]
  },
  {
   "cell_type": "code",
   "execution_count": 75,
   "metadata": {},
   "outputs": [],
   "source": [
    "t = np.linspace(-9,9, num = 100)"
   ]
  },
  {
   "cell_type": "code",
   "execution_count": 76,
   "metadata": {},
   "outputs": [],
   "source": [
    "cost = []\n",
    "for j in t:\n",
    "    l1 = min(arr1 - j)\n",
    "    l2 = min(-1*(arr2 - j))\n",
    "    l3 = min(l1,l2)\n",
    "    cost.append(l3)"
   ]
  },
  {
   "cell_type": "code",
   "execution_count": 77,
   "metadata": {},
   "outputs": [
    {
     "data": {
      "text/plain": [
       "[<matplotlib.lines.Line2D at 0x7fa6050f2860>]"
      ]
     },
     "execution_count": 77,
     "metadata": {},
     "output_type": "execute_result"
    },
    {
     "data": {
      "image/png": "[encoded data removed]",
      "text/plain": [
       "<Figure size 432x288 with 1 Axes>"
      ]
     },
     "metadata": {
      "needs_background": "light"
     },
     "output_type": "display_data"
    }
   ],
   "source": [
    "plt.plot(t,cost)"
   ]
  },
  {
   "cell_type": "code",
   "execution_count": 78,
   "metadata": {},
   "outputs": [
    {
     "data": {
      "text/plain": [
       "-0.09090909090908994"
      ]
     },
     "execution_count": 78,
     "metadata": {},
     "output_type": "execute_result"
    }
   ],
   "source": [
    "t[cost.index(max(cost))]"
   ]
  },
  {
   "cell_type": "markdown",
   "metadata": {
    "colab_type": "text",
    "id": "PK1hkTmcL4Dx"
   },
   "source": [
    "Write your final answer here."
   ]
  },
  {
   "cell_type": "markdown",
   "metadata": {
    "colab_type": "text",
    "id": "ne_Gmz_sMNeT"
   },
   "source": [
    "### Question 2\n",
    "### Outliers and Slack Parameter\n",
    "**a) Class 1 : -6,9,10,11,12,13,14; Class -1 : -9,-10,-11,-12,-13,-14 Repeat all parts of Q1. Does the boundary shift? Is this more optimal than the classifier in Q1? You will see that there is an outlier. Will it be better to ignore the outlier so that the classifier generalizes better? <br><br> b) Class 1 : -10,9,10,11,12,13,14; Class -1 : -9,-10,-11,-12,-13,-14. Is this data linearly separable? Is there an outlier? Ignore the outlier and then report the threhold.<br><br>c) In the above cases, we allow for some error so that our data generalises better. How much of this error is permissible is captured by a slack parameter.** "
   ]
  },
  {
   "cell_type": "code",
   "execution_count": 79,
   "metadata": {
    "colab": {},
    "colab_type": "code",
    "id": "szep-f5xMj4v"
   },
   "outputs": [
    {
     "data": {
      "text/plain": [
       "<matplotlib.legend.Legend at 0x7fa6050d89e8>"
      ]
     },
     "execution_count": 79,
     "metadata": {},
     "output_type": "execute_result"
    },
    {
     "data": {
      "image/png": "[encoded data removed]",
      "text/plain": [
       "<Figure size 432x288 with 1 Axes>"
      ]
     },
     "metadata": {
      "needs_background": "light"
     },
     "output_type": "display_data"
    }
   ],
   "source": [
    "arr1 = np.array([ -6,9,10,11,12,13,14])\n",
    "arr2 = np.array([-9,-10,-11,-12,-13,-14])\n",
    "plt.scatter(arr1,np.zeros(len(arr1)), label = 'Class1')\n",
    "plt.scatter(arr2,np.zeros(len(arr2)), label = 'Class -1')\n",
    "plt.legend()"
   ]
  },
  {
   "cell_type": "code",
   "execution_count": 80,
   "metadata": {},
   "outputs": [
    {
     "ename": "SyntaxError",
     "evalue": "invalid syntax (<ipython-input-80-25687b82f749>, line 8)",
     "output_type": "error",
     "traceback": [
      "\u001b[0;36m  File \u001b[0;32m\"<ipython-input-80-25687b82f749>\"\u001b[0;36m, line \u001b[0;32m8\u001b[0m\n\u001b[0;31m    plt.plot(t,cost)a\u001b[0m\n\u001b[0m                    ^\u001b[0m\n\u001b[0;31mSyntaxError\u001b[0m\u001b[0;31m:\u001b[0m invalid syntax\n"
     ]
    }
   ],
   "source": [
    "t = np.linspace(-9,9, num = 100)\n",
    "cost = []\n",
    "for j in t:\n",
    "    l1 = min(arr1 - j)\n",
    "    l2 = min(-1*(arr2 - j))\n",
    "    l3 = min(l1,l2)\n",
    "    cost.append(l3)\n",
    "plt.plot(t,cost)a"
   ]
  },
  {
   "cell_type": "code",
   "execution_count": 81,
   "metadata": {},
   "outputs": [
    {
     "data": {
      "text/plain": [
       "-0.09090909090908994"
      ]
     },
     "execution_count": 81,
     "metadata": {},
     "output_type": "execute_result"
    }
   ],
   "source": [
    "t[cost.index(max(cost))]"
   ]
  },
  {
   "cell_type": "code",
   "execution_count": 82,
   "metadata": {},
   "outputs": [
    {
     "data": {
      "text/plain": [
       "<matplotlib.legend.Legend at 0x7fa605045da0>"
      ]
     },
     "execution_count": 82,
     "metadata": {},
     "output_type": "execute_result"
    },
    {
     "data": {
      "image/png": "[encoded data removed]",
      "text/plain": [
       "<Figure size 432x288 with 1 Axes>"
      ]
     },
     "metadata": {
      "needs_background": "light"
     },
     "output_type": "display_data"
    }
   ],
   "source": [
    "plt.scatter(arr1,np.zeros(len(arr1)), label = 'Class1')\n",
    "plt.scatter(arr2,np.zeros(len(arr2)), label = 'Class -1')\n",
    "plt.axvline(x = t[cost.index(max(cost))])\n",
    "plt.legend()"
   ]
  },
  {
   "cell_type": "markdown",
   "metadata": {
    "colab_type": "text",
    "id": "H0UB-g-7MmOH"
   },
   "source": [
    "Yes, the boundary shifts to some extent and if point is ignored it will generalize better"
   ]
  },
  {
   "cell_type": "code",
   "execution_count": 83,
   "metadata": {},
   "outputs": [
    {
     "data": {
      "text/plain": [
       "<matplotlib.legend.Legend at 0x7fa6050b77b8>"
      ]
     },
     "execution_count": 83,
     "metadata": {},
     "output_type": "execute_result"
    },
    {
     "data": {
      "image/png": "[encoded data removed]",
      "text/plain": [
       "<Figure size 432x288 with 1 Axes>"
      ]
     },
     "metadata": {
      "needs_background": "light"
     },
     "output_type": "display_data"
    }
   ],
   "source": [
    "arr1 = np.array([ -10,9,10,11,12,13,14])\n",
    "arr2 = np.array([-9,-10,-11,-12,-13,-14])\n",
    "plt.scatter(arr1,np.zeros(len(arr1)), label = 'Class1')\n",
    "plt.scatter(arr2,np.zeros(len(arr2)), label = 'Class -1')\n",
    "plt.legend()"
   ]
  },
  {
   "cell_type": "code",
   "execution_count": 84,
   "metadata": {},
   "outputs": [
    {
     "data": {
      "text/plain": [
       "[<matplotlib.lines.Line2D at 0x7fa604f2acc0>]"
      ]
     },
     "execution_count": 84,
     "metadata": {},
     "output_type": "execute_result"
    },
    {
     "data": {
      "image/png": "[encoded data removed]",
      "text/plain": [
       "<Figure size 432x288 with 1 Axes>"
      ]
     },
     "metadata": {
      "needs_background": "light"
     },
     "output_type": "display_data"
    }
   ],
   "source": [
    "t = np.linspace(-10,-9, num = 100)\n",
    "cost = []\n",
    "for j in t:\n",
    "    l1 = min(arr1 - j)\n",
    "    l2 = min(-1*(arr2 - j))\n",
    "    l3 = min(l1,l2)\n",
    "    cost.append(l3)\n",
    "plt.plot(t,cost)"
   ]
  },
  {
   "cell_type": "code",
   "execution_count": 85,
   "metadata": {},
   "outputs": [
    {
     "data": {
      "text/plain": [
       "<matplotlib.legend.Legend at 0x7fa604f0ab00>"
      ]
     },
     "execution_count": 85,
     "metadata": {},
     "output_type": "execute_result"
    },
    {
     "data": {
      "image/png": "[encoded data removed]",
      "text/plain": [
       "<Figure size 432x288 with 1 Axes>"
      ]
     },
     "metadata": {
      "needs_background": "light"
     },
     "output_type": "display_data"
    }
   ],
   "source": [
    "plt.scatter(arr1,np.zeros(len(arr1)), label = 'Class1')\n",
    "plt.scatter(arr2,np.zeros(len(arr2)), label = 'Class -1')\n",
    "plt.axvline(x = t[cost.index(max(cost))])\n",
    "plt.legend()"
   ]
  },
  {
   "cell_type": "code",
   "execution_count": null,
   "metadata": {},
   "outputs": [],
   "source": []
  },
  {
   "cell_type": "markdown",
   "metadata": {
    "colab": {},
    "colab_type": "code",
    "id": "74Bz1CVBL0GI"
   },
   "source": [
    "### Question 3 : \n",
    "### SVM in 2D\n",
    "**Using sklearn, visualise the data points and plot the decision boundary for the following 2D datapoints, into 2 classes. Also mention the support vectors for each case. Use sklearn's SVC implementation with 'linear' kernel and default C. <br> <br>\n",
    "(a)  Class 1 - (-1,-2), (1,1), (1.5, 1.5), (-2,-1), (0,0), (1,-0.5) <br> Class 2 - (4.1,5.2), (6,8), (4,4), (7,8), (4.5,6), (5.5,6)**\n"
   ]
  },
  {
   "cell_type": "code",
   "execution_count": 86,
   "metadata": {},
   "outputs": [],
   "source": [
    "class0 = np.array([[-1,-2], [1,1], [1.5, 1.5], [-2,-1], [0,0], [1,-0.5]] )\n",
    "class1 = np.array( [[4.1,5.2], [6,8], [4,4], [7,8], [4.5,6], [5.5,6]])\n",
    "data = np.append(class0, class1)"
   ]
  },
  {
   "cell_type": "code",
   "execution_count": 87,
   "metadata": {},
   "outputs": [],
   "source": [
    "data = data.reshape(12,2)"
   ]
  },
  {
   "cell_type": "code",
   "execution_count": 88,
   "metadata": {},
   "outputs": [
    {
     "data": {
      "text/plain": [
       "<matplotlib.collections.PathCollection at 0x7fa604e857b8>"
      ]
     },
     "execution_count": 88,
     "metadata": {},
     "output_type": "execute_result"
    },
    {
     "data": {
      "image/png": "[encoded data removed]",
      "text/plain": [
       "<Figure size 432x288 with 1 Axes>"
      ]
     },
     "metadata": {
      "needs_background": "light"
     },
     "output_type": "display_data"
    }
   ],
   "source": [
    "plt.scatter(class0[:,0],class0[:,1])\n",
    "plt.scatter(class1[:,0],class1[:,1])"
   ]
  },
  {
   "cell_type": "code",
   "execution_count": 89,
   "metadata": {},
   "outputs": [],
   "source": [
    "labels = np.array([])\n",
    "for i in range(len(class0)):\n",
    "    labels = np.append(labels, 0)\n",
    "for i in range(len(class1)):\n",
    "    labels = np.append(labels, 1)"
   ]
  },
  {
   "cell_type": "code",
   "execution_count": 90,
   "metadata": {},
   "outputs": [
    {
     "data": {
      "text/plain": [
       "SVC(C=1.0, cache_size=200, class_weight=None, coef0=0.0,\n",
       "    decision_function_shape='ovr', degree=3, gamma='auto_deprecated',\n",
       "    kernel='linear', max_iter=-1, probability=False, random_state=None,\n",
       "    shrinking=True, tol=0.001, verbose=False)"
      ]
     },
     "execution_count": 90,
     "metadata": {},
     "output_type": "execute_result"
    }
   ],
   "source": [
    "from sklearn.svm import SVC\n",
    "clf = SVC(kernel='linear')\n",
    "clf.fit(data, labels) "
   ]
  },
  {
   "cell_type": "code",
   "execution_count": 91,
   "metadata": {},
   "outputs": [
    {
     "data": {
      "text/plain": [
       "array([-2.2])"
      ]
     },
     "execution_count": 91,
     "metadata": {},
     "output_type": "execute_result"
    }
   ],
   "source": [
    "clf.intercept_"
   ]
  },
  {
   "cell_type": "code",
   "execution_count": 92,
   "metadata": {},
   "outputs": [
    {
     "data": {
      "image/png": "[encoded data removed]",
      "text/plain": [
       "<Figure size 432x288 with 1 Axes>"
      ]
     },
     "metadata": {
      "needs_background": "light"
     },
     "output_type": "display_data"
    }
   ],
   "source": [
    "def graph(formula, x_range):  \n",
    "    x = np.array(x_range)  \n",
    "    y = formula(x)  # <- note now we're calling the function 'formula' with x\n",
    "    plt.plot(x, y)  \n",
    "    plt.show()  \n",
    "\n",
    "def my_formula(x):\n",
    "    return -1*x+5.5\n",
    "plt.scatter(class0[:,0],class0[:,1])\n",
    "plt.scatter(class1[:,0],class1[:,1])\n",
    "graph(my_formula, range(-2,8))"
   ]
  },
  {
   "cell_type": "markdown",
   "metadata": {},
   "source": [
    "**(b) Now add the point (3.4,2.3) to Class 0 from part (a), and classify into Class0 and Class1 again.**"
   ]
  },
  {
   "cell_type": "code",
   "execution_count": 93,
   "metadata": {},
   "outputs": [
    {
     "data": {
      "text/plain": [
       "SVC(C=1.0, cache_size=200, class_weight=None, coef0=0.0,\n",
       "    decision_function_shape='ovr', degree=3, gamma='auto_deprecated',\n",
       "    kernel='linear', max_iter=-1, probability=False, random_state=None,\n",
       "    shrinking=True, tol=0.001, verbose=False)"
      ]
     },
     "execution_count": 93,
     "metadata": {},
     "output_type": "execute_result"
    }
   ],
   "source": [
    "class0 = np.array([[-1,-2], [1,1], [1.5, 1.5], [-2,-1], [0,0], [1,-0.5], [3.4,2.3]] )\n",
    "class1 = np.array( [[4.1,5.2], [6,8], [4,4], [7,8], [4.5,6], [5.5,6]])\n",
    "data = np.append(class0, class1)\n",
    "data = data.reshape(13,2)\n",
    "labels = np.array([])\n",
    "for i in range(len(class0)):\n",
    "    labels = np.append(labels, 0)\n",
    "for i in range(len(class1)):\n",
    "    labels = np.append(labels, 1)\n",
    "from sklearn.svm import SVC\n",
    "clf = SVC(kernel='linear')\n",
    "clf.fit(data, labels) "
   ]
  },
  {
   "cell_type": "code",
   "execution_count": 94,
   "metadata": {},
   "outputs": [
    {
     "data": {
      "text/plain": [
       "array([-4.66153616])"
      ]
     },
     "execution_count": 94,
     "metadata": {},
     "output_type": "execute_result"
    }
   ],
   "source": [
    "clf.intercept_"
   ]
  },
  {
   "cell_type": "code",
   "execution_count": 95,
   "metadata": {},
   "outputs": [
    {
     "data": {
      "text/plain": [
       "array([[0.3692306 , 1.04615335]])"
      ]
     },
     "execution_count": 95,
     "metadata": {},
     "output_type": "execute_result"
    }
   ],
   "source": [
    "clf.coef_"
   ]
  },
  {
   "cell_type": "code",
   "execution_count": 96,
   "metadata": {},
   "outputs": [
    {
     "data": {
      "image/png": "[encoded data removed]",
      "text/plain": [
       "<Figure size 432x288 with 1 Axes>"
      ]
     },
     "metadata": {
      "needs_background": "light"
     },
     "output_type": "display_data"
    }
   ],
   "source": [
    "def graph(formula, x_range):  \n",
    "    x = np.array(x_range)  \n",
    "    y = formula(x)  # <- note now we're calling the function 'formula' with x\n",
    "    plt.plot(x, y)  \n",
    "    plt.show()  \n",
    "\n",
    "def my_formula(x):\n",
    "    return -0.354*x+4.481\n",
    "plt.scatter(class0[:,0],class0[:,1])\n",
    "plt.scatter(class1[:,0],class1[:,1])\n",
    "graph(my_formula, range(-2,8))"
   ]
  },
  {
   "cell_type": "markdown",
   "metadata": {},
   "source": [
    "**c) Now add the point (4.5,4.5) to Class0 in part (a) and classify into classes 0 and 1 again. <br>  Comment on whether it is possible to perfectly classify these points using a linear classifier in 2D.**"
   ]
  },
  {
   "cell_type": "code",
   "execution_count": 97,
   "metadata": {},
   "outputs": [
    {
     "data": {
      "text/plain": [
       "SVC(C=1.0, cache_size=200, class_weight=None, coef0=0.0,\n",
       "    decision_function_shape='ovr', degree=3, gamma='auto_deprecated',\n",
       "    kernel='linear', max_iter=-1, probability=False, random_state=None,\n",
       "    shrinking=True, tol=0.001, verbose=False)"
      ]
     },
     "execution_count": 97,
     "metadata": {},
     "output_type": "execute_result"
    }
   ],
   "source": [
    "class0 = np.array([[-1,-2], [1,1], [1.5, 1.5], [-2,-1], [0,0], [1,-0.5], [3.4,2.3],[4.5,4.5]] )\n",
    "class1 = np.array( [[4.1,5.2], [6,8], [4,4], [7,8], [4.5,6], [5.5,6]])\n",
    "data = np.append(class0, class1)\n",
    "data = data.reshape(14,2)\n",
    "labels = np.array([])\n",
    "for i in range(len(class0)):\n",
    "    labels = np.append(labels, 0)\n",
    "for i in range(len(class1)):\n",
    "    labels = np.append(labels, 1)\n",
    "from sklearn.svm import SVC\n",
    "clf = SVC(kernel='linear')\n",
    "clf.fit(data, labels) "
   ]
  },
  {
   "cell_type": "code",
   "execution_count": 98,
   "metadata": {},
   "outputs": [
    {
     "data": {
      "text/plain": [
       "array([[-0.2011238 ,  0.73820142]])"
      ]
     },
     "execution_count": 98,
     "metadata": {},
     "output_type": "execute_result"
    }
   ],
   "source": [
    "clf.coef_"
   ]
  },
  {
   "cell_type": "code",
   "execution_count": 99,
   "metadata": {},
   "outputs": [
    {
     "data": {
      "text/plain": [
       "array([-2.01404164])"
      ]
     },
     "execution_count": 99,
     "metadata": {},
     "output_type": "execute_result"
    }
   ],
   "source": [
    "clf.intercept_"
   ]
  },
  {
   "cell_type": "code",
   "execution_count": 100,
   "metadata": {},
   "outputs": [
    {
     "data": {
      "image/png": "[encoded data removed]",
      "text/plain": [
       "<Figure size 432x288 with 1 Axes>"
      ]
     },
     "metadata": {
      "needs_background": "light"
     },
     "output_type": "display_data"
    }
   ],
   "source": [
    "def graph(formula, x_range):  \n",
    "    x = np.array(x_range)  \n",
    "    y = formula(x)  # <- note now we're calling the function 'formula' with x\n",
    "    plt.plot(x, y)  \n",
    "    plt.show()  \n",
    "\n",
    "def my_formula(x):\n",
    "    return 0.275*x+2.758\n",
    "plt.scatter(class0[:,0],class0[:,1])\n",
    "plt.scatter(class1[:,0],class1[:,1])\n",
    "graph(my_formula, range(-2,8))"
   ]
  },
  {
   "cell_type": "markdown",
   "metadata": {},
   "source": [
    "No we can't classify using 2d classifier"
   ]
  },
  {
   "cell_type": "markdown",
   "metadata": {},
   "source": [
    "### Change of support vectors\n",
    "**(d) How did the addition of one point in (b) and (c) affect the separating plane in (a)?**"
   ]
  },
  {
   "cell_type": "markdown",
   "metadata": {},
   "source": [
    "The linear curve doesn't seem to be the right fit here as there is an outlier present in class1. We need to use some other classifier"
   ]
  },
  {
   "cell_type": "markdown",
   "metadata": {},
   "source": [
    "**(e) Now add the point (-1.3,-1.9) to part (a) and classify again. This time, did the decision boundary change?**\n"
   ]
  },
  {
   "cell_type": "code",
   "execution_count": 101,
   "metadata": {},
   "outputs": [
    {
     "data": {
      "text/plain": [
       "SVC(C=1.0, cache_size=200, class_weight=None, coef0=0.0,\n",
       "    decision_function_shape='ovr', degree=3, gamma='auto_deprecated',\n",
       "    kernel='linear', max_iter=-1, probability=False, random_state=None,\n",
       "    shrinking=True, tol=0.001, verbose=False)"
      ]
     },
     "execution_count": 101,
     "metadata": {},
     "output_type": "execute_result"
    }
   ],
   "source": [
    "class0 = np.array([[-1,-2], [1,1], [1.5, 1.5], [-2,-1], [0,0], [1,-0.5], [3.4,2.3],[4.5,4.5],[-1.3,-1.9]] )\n",
    "class1 = np.array( [[4.1,5.2], [6,8], [4,4], [7,8], [4.5,6], [5.5,6]])\n",
    "data = np.append(class0, class1)\n",
    "data = data.reshape(15,2)\n",
    "labels = np.array([])\n",
    "for i in range(len(class0)):\n",
    "    labels = np.append(labels, 0)\n",
    "for i in range(len(class1)):\n",
    "    labels = np.append(labels, 1)\n",
    "from sklearn.svm import SVC\n",
    "clf = SVC(kernel='linear')\n",
    "clf.fit(data, labels) "
   ]
  },
  {
   "cell_type": "code",
   "execution_count": 102,
   "metadata": {},
   "outputs": [
    {
     "data": {
      "text/plain": [
       "array([[-0.2011238 ,  0.73820142]])"
      ]
     },
     "execution_count": 102,
     "metadata": {},
     "output_type": "execute_result"
    }
   ],
   "source": [
    "clf.coef_"
   ]
  },
  {
   "cell_type": "code",
   "execution_count": 103,
   "metadata": {},
   "outputs": [
    {
     "data": {
      "text/plain": [
       "array([-2.01404163])"
      ]
     },
     "execution_count": 103,
     "metadata": {},
     "output_type": "execute_result"
    }
   ],
   "source": [
    "clf.intercept_"
   ]
  },
  {
   "cell_type": "code",
   "execution_count": 104,
   "metadata": {},
   "outputs": [
    {
     "data": {
      "image/png": "[encoded data removed]",
      "text/plain": [
       "<Figure size 432x288 with 1 Axes>"
      ]
     },
     "metadata": {
      "needs_background": "light"
     },
     "output_type": "display_data"
    }
   ],
   "source": [
    "def graph(formula, x_range):  \n",
    "    x = np.array(x_range)  \n",
    "    y = formula(x)  # <- note now we're calling the function 'formula' with x\n",
    "    plt.plot(x, y)  \n",
    "    plt.show()  \n",
    "\n",
    "def my_formula(x):\n",
    "    return 0.272*x+2.728\n",
    "plt.scatter(class0[:,0],class0[:,1])\n",
    "plt.scatter(class1[:,0],class1[:,1])\n",
    "graph(my_formula, range(-2,8))"
   ]
  },
  {
   "cell_type": "markdown",
   "metadata": {},
   "source": [
    "Almost no change in decison boundary"
   ]
  },
  {
   "cell_type": "markdown",
   "metadata": {},
   "source": [
    "### Perturbation of non-support vectors\n",
    "**(f) Now perturb all the points in both classes in part (a) except (1.5,1.5) in class0 and (4,4) in class1 as follows. Add -0.5 to each x and y coordinate in Class0 and 0.5 to each point in Class1. Did the decision boundary change?**"
   ]
  },
  {
   "cell_type": "code",
   "execution_count": 105,
   "metadata": {},
   "outputs": [
    {
     "data": {
      "text/plain": [
       "SVC(C=1.0, cache_size=200, class_weight=None, coef0=0.0,\n",
       "    decision_function_shape='ovr', degree=3, gamma='auto_deprecated',\n",
       "    kernel='linear', max_iter=-1, probability=False, random_state=None,\n",
       "    shrinking=True, tol=0.001, verbose=False)"
      ]
     },
     "execution_count": 105,
     "metadata": {},
     "output_type": "execute_result"
    }
   ],
   "source": [
    "import numpy as np\n",
    "class0 =np.array([[-1.5,-2.5], [0.5,0.5], [1.5, 1.5], [-2.5,-1.5], [-0.5,-0.5], [0.5,-1],[-1.8,-2.4]])\n",
    "class1 = np.array([[4.6,5.7], [6.5,8.5], [4,4], [7.5,8.5], [5,6.5], [6,6.5]])\n",
    "data = np.append(class0, class1)\n",
    "data = data.reshape(13,2)\n",
    "labels = np.array([])\n",
    "for i in range(len(class0)):\n",
    "    labels = np.append(labels, 0)\n",
    "for i in range(len(class1)):\n",
    "    labels = np.append(labels, 1)\n",
    "from sklearn.svm import SVC\n",
    "clf = SVC(kernel='linear')\n",
    "clf.fit(data, labels) "
   ]
  },
  {
   "cell_type": "code",
   "execution_count": 106,
   "metadata": {},
   "outputs": [
    {
     "data": {
      "text/plain": [
       "array([[0.4, 0.4]])"
      ]
     },
     "execution_count": 106,
     "metadata": {},
     "output_type": "execute_result"
    }
   ],
   "source": [
    "clf.coef_"
   ]
  },
  {
   "cell_type": "code",
   "execution_count": 107,
   "metadata": {},
   "outputs": [
    {
     "data": {
      "text/plain": [
       "array([-2.2])"
      ]
     },
     "execution_count": 107,
     "metadata": {},
     "output_type": "execute_result"
    }
   ],
   "source": [
    "clf.intercept_"
   ]
  },
  {
   "cell_type": "code",
   "execution_count": 108,
   "metadata": {},
   "outputs": [
    {
     "data": {
      "image/png": "[encoded data removed]",
      "text/plain": [
       "<Figure size 432x288 with 1 Axes>"
      ]
     },
     "metadata": {
      "needs_background": "light"
     },
     "output_type": "display_data"
    }
   ],
   "source": [
    "def graph(formula, x_range):  \n",
    "    x = np.array(x_range)  \n",
    "    y = formula(x)  # <- note now we're calling the function 'formula' with x\n",
    "    plt.plot(x, y)  \n",
    "    plt.show()  \n",
    "\n",
    "def my_formula(x):\n",
    "    return -1*x+5.5\n",
    "plt.scatter(class0[:,0],class0[:,1])\n",
    "plt.scatter(class1[:,0],class1[:,1])\n",
    "graph(my_formula, range(-2,8))"
   ]
  },
  {
   "cell_type": "markdown",
   "metadata": {},
   "source": [
    "**(g) How did the perturbation of points which are not support vectors in (a) affect the final classifier? Did the decision boundary change? Why not?**"
   ]
  },
  {
   "cell_type": "markdown",
   "metadata": {},
   "source": [
    "Support vectors still remain unchanged which makes even the decision boundary unchaged."
   ]
  },
  {
   "cell_type": "markdown",
   "metadata": {},
   "source": [
    "### Question 4  \n",
    "### Introduction of Kernels\n",
    "**a) Plot two concentric circles of radii 4 and 8 with origin at 0. Sample 100 points uniformly from each of these circles. (use rcos(theta) and rsin(theta) to find the coordinates of the points lying on the circle. r is the radius of the circle. Vary theta from 3.6 degrees to 360 degrees in intervals of 3.6 degrees.)<br><br>b) Is the data linearly separable? <br><br>c)Since it's not, we will transform them to a different space (with probably different number of dimensions). The transformation (which generally boils down to inner product - something that we call a kernel) will make the data linearly separable in the different space. For each point, compute features as [1, x, x^2,xy,y^2,y]. This transforms the data from 2D to 6D. Now, use sklearn's SVM classifier (linear kernel) to classify the transformed feature space into two classes. <br><br>d)Now apply SVM classifier with i) polynomial kernel with degree 2  ii) rbf kernel and perform the classification. Visualize the decision boundary in the original 2D space in both the cases. Report the accuracies. Which performs best and why?<br>**"
   ]
  },
  {
   "cell_type": "markdown",
   "metadata": {},
   "source": [
    "**Answerb) The data is not linearly seperable.\n",
    "d) The polynomial kernel with degree 2 performs better as it spilts the two datasets with equation of circle which has raidus somehwere btewwen 4 and 8**"
   ]
  },
  {
   "cell_type": "code",
   "execution_count": 40,
   "metadata": {},
   "outputs": [
    {
     "data": {
      "text/plain": [
       "<matplotlib.patches.Circle at 0x7f35d0278710>"
      ]
     },
     "execution_count": 40,
     "metadata": {},
     "output_type": "execute_result"
    },
    {
     "data": {
      "image/png": "[encoded data removed]",
      "text/plain": [
       "<Figure size 432x288 with 1 Axes>"
      ]
     },
     "metadata": {
      "needs_background": "light"
     },
     "output_type": "display_data"
    }
   ],
   "source": [
    "import matplotlib.pyplot as plt\n",
    "\n",
    "circle1 = plt.Circle((0, 0), 4, color='b', fill=False)\n",
    "circle2 = plt.Circle((0, 0), 8, color='g', fill=False)\n",
    "\n",
    "fig, ax = plt.subplots() # note we must use plt.subplots, not plt.subplot\n",
    "# (or if you have an existing figure)\n",
    "# fig = plt.gcf()\n",
    "# ax = fig.gca()\n",
    "ax.set_xlim((-10, 10))\n",
    "ax.set_ylim((-10, 10))\n",
    "\n",
    "ax.add_artist(circle1)\n",
    "ax.add_artist(circle2)"
   ]
  },
  {
   "cell_type": "code",
   "execution_count": 46,
   "metadata": {},
   "outputs": [
    {
     "name": "stdout",
     "output_type": "stream",
     "text": [
      "cos_array :  [4.0, 3.9919467058875377, 3.9678192513231814, 3.927714789050827, 3.871794805585425, 3.8002844709637817, 3.7134717320642903, 3.6117061531464847, 3.4953975082791398, 3.365014131324725, 3.2210810301242345, 3.064177772475912, 2.8949361524202804, 2.7140376462285287, 2.52221066833809, 2.3202276382847926, 2.1089018704420095, 1.8890842990907308, 1.6616600520075457, 1.4275448863674876, 1.1876815013130997, 0.9430357420377091, 0.6945927106677217, 0.4433527996040444, 0.19032766329496872, -0.06346385533923211, -0.31699982742715416, -0.5692593530931409, -0.819226672260763, -1.0658952547601401, -1.3082718532696866, -1.5453805027725147, -1.7762664504230965, -2.000000000000001, -2.215680255464441, -2.4224387485506673, -2.61944293578114, -2.8058995508252855, -2.9810577987030187, -3.14421237897115, -3.2947063257193308, -3.4319336529399083, -3.5553417946196935, -3.6644338297282784, -3.7587704831436333, -3.8379718944579895, -3.901719147541628, -3.949755554705577, -3.9818876902923384, -3.9979861695327403, -3.9979861695327403, -3.9818876902923384, -3.949755554705577, -3.901719147541628, -3.8379718944579895, -3.7587704831436337, -3.6644338297282784, -3.555341794619694, -3.431933652939908, -3.294706325719331, -3.1442123789711496, -2.981057798703019, -2.805899550825285, -2.619442935781141, -2.4224387485506664, -2.215680255464442, -1.9999999999999984, -1.7762664504230958, -1.5453805027725147, -1.3082718532696875, -1.0658952547601386, -0.8192266722607622, -0.5692593530931409, -0.31699982742715516, -0.06346385533923043, 0.19032766329496953, 0.44335279960404345, 0.6945927106677199, 0.9430357420377099, 1.1876815013130997, 1.4275448863674867, 1.6616600520075473, 1.8890842990907315, 2.1089018704420095, 2.3202276382847917, 2.5222106683380914, 2.714037646228529, 2.8949361524202804, 3.064177772475911, 3.221081030124235, 3.365014131324725, 3.4953975082791398, 3.6117061531464842, 3.7134717320642907, 3.8002844709637817, 3.871794805585425, 3.9277147890508273, 3.9678192513231814, 3.9919467058875377, 4.0]\n",
      "\n",
      "sin_array :  [0.0, 0.253695678626258, 0.5063698142949971, 0.7570049774416409, 1.004591948724317, 1.2481337827939485, 1.4866498226413103, 1.7191796483566866, 1.9447869444018748, 2.16256326982239, 2.3716317162185616, 2.571150438746157, 2.760316045928448, 2.9383668346301333, 3.1045858571670273, 3.258303808201343, 3.3989017197980576, 3.5258134537903283, 3.6385279814180733, 3.7365914410604266, 3.8196089657762955, 3.8872462732941666, 3.939231012048832, 3.9753538578450165, 3.995469356732032, 3.9994965106955003, 3.9874191038077695, 3.9592857675237307, 3.915209784859115, 3.855368634239768, 3.780003274858674, 3.6894171764183255, 3.5839750971653435, 3.464101615137754, 3.3302794185390856, 3.183047362123328, 3.022998297417033, 2.850776685515451, 2.667076002065167, 2.4726359448824202, 2.2682394554510834, 2.0547095662936252, 1.832906086909642, 1.6037221416264544, 1.3680805733026755, 1.1269302273657187, 0.8812421311461632, 0.6320055838933996, 0.38022417321672974, 0.12691173399227063, -0.12691173399227143, -0.3802241732167305, -0.6320055838934003, -0.8812421311461622, -1.1269302273657194, -1.3680805733026746, -1.603722141626455, -1.8329060869096412, -2.0547095662936257, -2.2682394554510825, -2.472635944882421, -2.667076002065166, -2.8507766855154517, -3.0229982974170326, -3.1830473621233284, -3.330279418539085, -3.4641016151377553, -3.583975097165344, -3.6894171764183255, -3.7800032748586734, -3.8553686342397686, -3.915209784859115, -3.9592857675237307, -3.987419103807769, -3.9994965106955003, -3.995469356732032, -3.9753538578450165, -3.9392310120488325, -3.8872462732941666, -3.8196089657762955, -3.736591441060427, -3.638527981418073, -3.525813453790328, -3.3989017197980576, -3.2583038082013434, -3.1045858571670264, -2.938366834630133, -2.760316045928448, -2.5711504387461583, -2.3716317162185607, -2.1625632698223898, -1.9447869444018753, -1.7191796483566877, -1.486649822641309, -1.2481337827939483, -1.0045919487243176, -0.757004977441639, -0.5063698142949962, -0.2536956786262581, -9.797174393178826e-16]\n"
     ]
    }
   ],
   "source": [
    "import math \n",
    "import numpy as np \n",
    "import matplotlib.pyplot as plt  \n",
    "  \n",
    "in_array = np.linspace(0, 2 * np.pi, 100) \n",
    "  \n",
    "circle1_array_cos = []\n",
    "circle1_array_sin = []\n",
    "  \n",
    "for i in range(len(in_array)): \n",
    "    circle1_array_cos.append(4*math.cos(in_array[i]))\n",
    "    circle1_array_sin.append(4*math.sin(in_array[i])) \n",
    "    i += 1\n",
    "  \n",
    "   \n",
    "print(\"cos_array : \", circle1_array_cos)  \n",
    "print(\"\\nsin_array : \", circle1_array_sin)  "
   ]
  },
  {
   "cell_type": "code",
   "execution_count": 53,
   "metadata": {},
   "outputs": [],
   "source": [
    "circle1_array_cos = np.array(circle1_array_cos)\n",
    "circle1_array_sin = np.array(circle1_array_sin)\n",
    "circle2_array_cos = 2*circle1_array_cos\n",
    "circle2_array_sin = 2*circle1_array_sin"
   ]
  },
  {
   "cell_type": "code",
   "execution_count": 78,
   "metadata": {},
   "outputs": [],
   "source": [
    "circle1_array_cos = circle1_array_cos.reshape(100,1)\n",
    "circle1_array_sin = circle1_array_sin.reshape(100,1)\n",
    "circle2_array_cos = circle2_array_cos.reshape(100,1)\n",
    "circle2_array_sin = circle2_array_sin.reshape(100,1)"
   ]
  },
  {
   "cell_type": "code",
   "execution_count": 79,
   "metadata": {},
   "outputs": [],
   "source": [
    "circle1_array = np.hstack((circle1_array_cos,circle1_array_sin))\n",
    "circle2_array = np.hstack((circle2_array_cos,circle2_array_sin))"
   ]
  },
  {
   "cell_type": "code",
   "execution_count": 80,
   "metadata": {},
   "outputs": [
    {
     "data": {
      "text/plain": [
       "(100, 2)"
      ]
     },
     "execution_count": 80,
     "metadata": {},
     "output_type": "execute_result"
    }
   ],
   "source": [
    "circle2_array.shape"
   ]
  },
  {
   "cell_type": "code",
   "execution_count": 83,
   "metadata": {},
   "outputs": [
    {
     "data": {
      "text/plain": [
       "SVC(C=1.0, cache_size=200, class_weight=None, coef0=0.0,\n",
       "    decision_function_shape='ovr', degree=3, gamma='auto_deprecated',\n",
       "    kernel='linear', max_iter=-1, probability=False, random_state=None,\n",
       "    shrinking=True, tol=0.001, verbose=False)"
      ]
     },
     "execution_count": 83,
     "metadata": {},
     "output_type": "execute_result"
    }
   ],
   "source": [
    "data = np.append(circle1_array, circle2_array)\n",
    "data = data.reshape(200,2)\n",
    "labels = np.array([])\n",
    "for i in range(len(circle1_array)):\n",
    "    labels = np.append(labels, 1)\n",
    "for i in range(len(circle2_array)):\n",
    "    labels = np.append(labels, 2)\n",
    "from sklearn.svm import SVC\n",
    "clf = SVC(kernel='linear')\n",
    "clf.fit(data, labels) "
   ]
  },
  {
   "cell_type": "code",
   "execution_count": 84,
   "metadata": {},
   "outputs": [
    {
     "data": {
      "text/plain": [
       "array([[ 0.16665751, -0.00352995]])"
      ]
     },
     "execution_count": 84,
     "metadata": {},
     "output_type": "execute_result"
    }
   ],
   "source": [
    "clf.coef_"
   ]
  },
  {
   "cell_type": "code",
   "execution_count": 85,
   "metadata": {},
   "outputs": [
    {
     "data": {
      "text/plain": [
       "array([-0.33347908])"
      ]
     },
     "execution_count": 85,
     "metadata": {},
     "output_type": "execute_result"
    }
   ],
   "source": [
    "clf.intercept_"
   ]
  },
  {
   "cell_type": "code",
   "execution_count": 103,
   "metadata": {},
   "outputs": [
    {
     "data": {
      "image/png": "[encoded data removed]",
      "text/plain": [
       "<Figure size 432x288 with 1 Axes>"
      ]
     },
     "metadata": {
      "needs_background": "light"
     },
     "output_type": "display_data"
    }
   ],
   "source": [
    "def graph(formula, x_range):  \n",
    "    x = np.array(x_range)  \n",
    "    y = formula(x)  # <- note now we're calling the function 'formula' with x\n",
    "    plt.plot(x, y)  \n",
    "    plt.show()  \n",
    "\n",
    "def my_formula(x):\n",
    "    return 55.33*x-111\n",
    "plt.scatter(circle1_array[:,0],circle1_array[:,1])\n",
    "plt.scatter(circle2_array[:,0],circle2_array[:,1])\n",
    "graph(my_formula, range(2,4))"
   ]
  },
  {
   "cell_type": "code",
   "execution_count": 111,
   "metadata": {},
   "outputs": [],
   "source": [
    "circle1_x2 = np.square(circle1_array_cos)\n",
    "circle1_y2 = np.square(circle1_array_sin)\n",
    "circle1_xy = np.multiply(circle1_array_cos, circle1_array_sin)\n",
    "circle1_1  = np.ones((100,1))\n",
    "circle1_array_new = np.hstack((circle1_1,circle1_array_cos,circle1_x2,circle1_xy,circle1_y2,circle1_array_sin))\n"
   ]
  },
  {
   "cell_type": "code",
   "execution_count": 113,
   "metadata": {},
   "outputs": [],
   "source": [
    "circle2_x2 = np.square(circle2_array_cos)\n",
    "circle2_y2 = np.square(circle2_array_sin)\n",
    "circle2_xy = np.multiply(circle2_array_cos, circle2_array_sin)\n",
    "circle2_1  = np.ones((100,1))\n",
    "circle2_array_new = np.hstack((circle2_1,circle2_array_cos,circle2_x2,circle2_xy,circle2_y2,circle2_array_sin))"
   ]
  },
  {
   "cell_type": "code",
   "execution_count": 125,
   "metadata": {},
   "outputs": [
    {
     "name": "stderr",
     "output_type": "stream",
     "text": [
      "/home/vishnu/anaconda3/lib/python3.7/site-packages/sklearn/svm/base.py:193: FutureWarning: The default value of gamma will change from 'auto' to 'scale' in version 0.22 to account better for unscaled features. Set gamma explicitly to 'auto' or 'scale' to avoid this warning.\n",
      "  \"avoid this warning.\", FutureWarning)\n"
     ]
    },
    {
     "data": {
      "text/plain": [
       "SVC(C=1.0, cache_size=200, class_weight=None, coef0=0.0,\n",
       "    decision_function_shape='ovr', degree=3, gamma='auto_deprecated',\n",
       "    kernel='rbf', max_iter=-1, probability=False, random_state=None,\n",
       "    shrinking=True, tol=0.001, verbose=False)"
      ]
     },
     "execution_count": 125,
     "metadata": {},
     "output_type": "execute_result"
    }
   ],
   "source": [
    "data = np.append(circle1_array_new, circle2_array_new)\n",
    "data = data.reshape(600,2)\n",
    "labels = np.array([])\n",
    "for i in range(3*len(circle1_array_new)):\n",
    "    labels = np.append(labels, 1)\n",
    "for i in range(3*len(circle2_array_new)):\n",
    "    labels = np.append(labels, 2)\n",
    "from sklearn.svm import SVC\n",
    "clf = SVC(kernel='rbf')\n",
    "clf.fit(data, labels) "
   ]
  },
  {
   "cell_type": "code",
   "execution_count": 126,
   "metadata": {},
   "outputs": [
    {
     "data": {
      "text/plain": [
       "0.87"
      ]
     },
     "execution_count": 126,
     "metadata": {},
     "output_type": "execute_result"
    }
   ],
   "source": [
    "clf.score(data, labels)"
   ]
  },
  {
   "cell_type": "code",
   "execution_count": 130,
   "metadata": {},
   "outputs": [
    {
     "data": {
      "text/plain": [
       "0.545"
      ]
     },
     "execution_count": 130,
     "metadata": {},
     "output_type": "execute_result"
    }
   ],
   "source": [
    "data = np.append(circle1_array, circle2_array)\n",
    "data = data.reshape(200,2)\n",
    "labels = np.array([])\n",
    "for i in range(len(circle1_array)):\n",
    "    labels = np.append(labels, 1)\n",
    "for i in range(len(circle2_array)):\n",
    "    labels = np.append(labels, 2)\n",
    "from sklearn.svm import SVC\n",
    "clf_linear = SVC(kernel='linear')\n",
    "clf_linear.fit(data, labels)\n",
    "clf_linear.score(data, labels)"
   ]
  },
  {
   "cell_type": "code",
   "execution_count": 131,
   "metadata": {},
   "outputs": [
    {
     "name": "stderr",
     "output_type": "stream",
     "text": [
      "/home/vishnu/anaconda3/lib/python3.7/site-packages/sklearn/svm/base.py:193: FutureWarning: The default value of gamma will change from 'auto' to 'scale' in version 0.22 to account better for unscaled features. Set gamma explicitly to 'auto' or 'scale' to avoid this warning.\n",
      "  \"avoid this warning.\", FutureWarning)\n"
     ]
    },
    {
     "data": {
      "text/plain": [
       "1.0"
      ]
     },
     "execution_count": 131,
     "metadata": {},
     "output_type": "execute_result"
    }
   ],
   "source": [
    "data = np.append(circle1_array, circle2_array)\n",
    "data = data.reshape(200,2)\n",
    "labels = np.array([])\n",
    "for i in range(len(circle1_array)):\n",
    "    labels = np.append(labels, 1)\n",
    "for i in range(len(circle2_array)):\n",
    "    labels = np.append(labels, 2)\n",
    "from sklearn.svm import SVC\n",
    "clf_poly = SVC(kernel='poly', degree=2)\n",
    "clf_poly.fit(data, labels)\n",
    "clf_poly.score(data, labels)"
   ]
  },
  {
   "cell_type": "code",
   "execution_count": 134,
   "metadata": {},
   "outputs": [],
   "source": [
    "from matplotlib.colors import ListedColormap\n",
    "import matplotlib.pyplot as plt\n",
    "import warnings\n",
    "\n",
    "# Import packages to do the classifying\n",
    "import numpy as np\n",
    "from sklearn.svm import SVC"
   ]
  },
  {
   "cell_type": "code",
   "execution_count": 135,
   "metadata": {},
   "outputs": [],
   "source": [
    "def versiontuple(v):\n",
    "    return tuple(map(int, (v.split(\".\"))))\n",
    "\n",
    "\n",
    "def plot_decision_regions(X, y, classifier, test_idx=None, resolution=0.02):\n",
    "\n",
    "    # setup marker generator and color map\n",
    "    markers = ('s', 'x', 'o', '^', 'v')\n",
    "    colors = ('red', 'blue', 'lightgreen', 'gray', 'cyan')\n",
    "    cmap = ListedColormap(colors[:len(np.unique(y))])\n",
    "\n",
    "    # plot the decision surface\n",
    "    x1_min, x1_max = X[:, 0].min() - 1, X[:, 0].max() + 1\n",
    "    x2_min, x2_max = X[:, 1].min() - 1, X[:, 1].max() + 1\n",
    "    xx1, xx2 = np.meshgrid(np.arange(x1_min, x1_max, resolution),\n",
    "                           np.arange(x2_min, x2_max, resolution))\n",
    "    Z = classifier.predict(np.array([xx1.ravel(), xx2.ravel()]).T)\n",
    "    Z = Z.reshape(xx1.shape)\n",
    "    plt.contourf(xx1, xx2, Z, alpha=0.4, cmap=cmap)\n",
    "    plt.xlim(xx1.min(), xx1.max())\n",
    "    plt.ylim(xx2.min(), xx2.max())\n",
    "\n",
    "    for idx, cl in enumerate(np.unique(y)):\n",
    "        plt.scatter(x=X[y == cl, 0], y=X[y == cl, 1],\n",
    "                    alpha=0.8, c=cmap(idx),\n",
    "                    marker=markers[idx], label=cl)\n",
    "\n",
    "    # highlight test samples\n",
    "    if test_idx:\n",
    "        # plot all samples\n",
    "        if not versiontuple(np.__version__) >= versiontuple('1.9.0'):\n",
    "            X_test, y_test = X[list(test_idx), :], y[list(test_idx)]\n",
    "            warnings.warn('Please update to NumPy 1.9.0 or newer')\n",
    "        else:\n",
    "            X_test, y_test = X[test_idx, :], y[test_idx]\n",
    "\n",
    "        plt.scatter(X_test[:, 0],\n",
    "                    X_test[:, 1],\n",
    "                    c='',\n",
    "                    alpha=1.0,\n",
    "                    linewidths=1,\n",
    "                    marker='o',\n",
    "                    s=55, label='test set')"
   ]
  },
  {
   "cell_type": "code",
   "execution_count": 136,
   "metadata": {},
   "outputs": [
    {
     "name": "stderr",
     "output_type": "stream",
     "text": [
      "'c' argument looks like a single numeric RGB or RGBA sequence, which should be avoided as value-mapping will have precedence in case its length matches with 'x' & 'y'.  Please use a 2-D array with a single row if you really want to specify the same RGB or RGBA value for all points.\n",
      "'c' argument looks like a single numeric RGB or RGBA sequence, which should be avoided as value-mapping will have precedence in case its length matches with 'x' & 'y'.  Please use a 2-D array with a single row if you really want to specify the same RGB or RGBA value for all points.\n"
     ]
    },
    {
     "data": {
      "image/png": "[encoded data removed]",
      "text/plain": [
       "<Figure size 432x288 with 1 Axes>"
      ]
     },
     "metadata": {
      "needs_background": "light"
     },
     "output_type": "display_data"
    }
   ],
   "source": [
    "plot_decision_regions(data, labels, classifier=clf_linear)\n",
    "plt.legend(loc='upper left')\n",
    "plt.tight_layout()"
   ]
  },
  {
   "cell_type": "code",
   "execution_count": 137,
   "metadata": {},
   "outputs": [
    {
     "name": "stderr",
     "output_type": "stream",
     "text": [
      "'c' argument looks like a single numeric RGB or RGBA sequence, which should be avoided as value-mapping will have precedence in case its length matches with 'x' & 'y'.  Please use a 2-D array with a single row if you really want to specify the same RGB or RGBA value for all points.\n",
      "'c' argument looks like a single numeric RGB or RGBA sequence, which should be avoided as value-mapping will have precedence in case its length matches with 'x' & 'y'.  Please use a 2-D array with a single row if you really want to specify the same RGB or RGBA value for all points.\n"
     ]
    },
    {
     "data": {
      "image/png": "[encoded data removed]",
      "text/plain": [
       "<Figure size 432x288 with 1 Axes>"
      ]
     },
     "metadata": {
      "needs_background": "light"
     },
     "output_type": "display_data"
    }
   ],
   "source": [
    "plot_decision_regions(data, labels, classifier=clf_poly)\n",
    "plt.legend(loc='upper left')\n",
    "plt.tight_layout()"
   ]
  },
  {
   "cell_type": "code",
   "execution_count": 138,
   "metadata": {},
   "outputs": [
    {
     "name": "stderr",
     "output_type": "stream",
     "text": [
      "'c' argument looks like a single numeric RGB or RGBA sequence, which should be avoided as value-mapping will have precedence in case its length matches with 'x' & 'y'.  Please use a 2-D array with a single row if you really want to specify the same RGB or RGBA value for all points.\n",
      "'c' argument looks like a single numeric RGB or RGBA sequence, which should be avoided as value-mapping will have precedence in case its length matches with 'x' & 'y'.  Please use a 2-D array with a single row if you really want to specify the same RGB or RGBA value for all points.\n"
     ]
    },
    {
     "data": {
      "image/png": "[encoded data removed]",
      "text/plain": [
       "<Figure size 432x288 with 1 Axes>"
      ]
     },
     "metadata": {
      "needs_background": "light"
     },
     "output_type": "display_data"
    }
   ],
   "source": [
    "plot_decision_regions(data, labels, classifier=clf)\n",
    "plt.legend(loc='upper left')\n",
    "plt.tight_layout()"
   ]
  },
  {
   "cell_type": "markdown",
   "metadata": {},
   "source": [
    "### Question 5 \n",
    "### Visualising effect of kernels\n",
    "**Load svm_c0.txt and svm_c1.txt. Create labels as 0 and 1 for these correspondingly. Visualise the two classes and plot decision boundaries obtained by the following kernels and corresponding hyperparameters.<br>(a) Linear kernel with C as 1.0 <br>(b) RBF kernel with gamma as [0.1,1.0,10.0,50.0]** "
   ]
  },
  {
   "cell_type": "code",
   "execution_count": 141,
   "metadata": {},
   "outputs": [],
   "source": [
    "svm_c0 = np.loadtxt('svm_c0.txt')"
   ]
  },
  {
   "cell_type": "code",
   "execution_count": 142,
   "metadata": {},
   "outputs": [],
   "source": [
    "svm_c1 = np.loadtxt('svm_c1.txt')"
   ]
  },
  {
   "cell_type": "code",
   "execution_count": 147,
   "metadata": {},
   "outputs": [
    {
     "data": {
      "text/plain": [
       "SVC(C=1.0, cache_size=200, class_weight=None, coef0=0.0,\n",
       "    decision_function_shape='ovr', degree=3, gamma='auto_deprecated',\n",
       "    kernel='linear', max_iter=-1, probability=False, random_state=None,\n",
       "    shrinking=True, tol=0.001, verbose=False)"
      ]
     },
     "execution_count": 147,
     "metadata": {},
     "output_type": "execute_result"
    }
   ],
   "source": [
    "data = np.append(svm_c0, svm_c1)\n",
    "data = data.reshape(180,2)\n",
    "labels = np.array([])\n",
    "for i in range(len(svm_c0)):\n",
    "    labels = np.append(labels, 0)\n",
    "for i in range(len(svm_c1)):\n",
    "    labels = np.append(labels, 1)\n",
    "from sklearn.svm import SVC\n",
    "clf_linear = SVC(kernel='linear', C=1.0)\n",
    "clf_linear.fit(data, labels)"
   ]
  },
  {
   "cell_type": "code",
   "execution_count": 148,
   "metadata": {},
   "outputs": [
    {
     "name": "stderr",
     "output_type": "stream",
     "text": [
      "'c' argument looks like a single numeric RGB or RGBA sequence, which should be avoided as value-mapping will have precedence in case its length matches with 'x' & 'y'.  Please use a 2-D array with a single row if you really want to specify the same RGB or RGBA value for all points.\n",
      "'c' argument looks like a single numeric RGB or RGBA sequence, which should be avoided as value-mapping will have precedence in case its length matches with 'x' & 'y'.  Please use a 2-D array with a single row if you really want to specify the same RGB or RGBA value for all points.\n"
     ]
    },
    {
     "data": {
      "image/png": "[encoded data removed]",
      "text/plain": [
       "<Figure size 432x288 with 1 Axes>"
      ]
     },
     "metadata": {
      "needs_background": "light"
     },
     "output_type": "display_data"
    }
   ],
   "source": [
    "plot_decision_regions(data, labels, classifier=clf_linear)\n",
    "plt.legend(loc='upper left')\n",
    "plt.tight_layout()"
   ]
  },
  {
   "cell_type": "code",
   "execution_count": 149,
   "metadata": {},
   "outputs": [
    {
     "name": "stderr",
     "output_type": "stream",
     "text": [
      "'c' argument looks like a single numeric RGB or RGBA sequence, which should be avoided as value-mapping will have precedence in case its length matches with 'x' & 'y'.  Please use a 2-D array with a single row if you really want to specify the same RGB or RGBA value for all points.\n",
      "'c' argument looks like a single numeric RGB or RGBA sequence, which should be avoided as value-mapping will have precedence in case its length matches with 'x' & 'y'.  Please use a 2-D array with a single row if you really want to specify the same RGB or RGBA value for all points.\n"
     ]
    },
    {
     "data": {
      "image/png": "[encoded data removed]",
      "text/plain": [
       "<Figure size 432x288 with 1 Axes>"
      ]
     },
     "metadata": {
      "needs_background": "light"
     },
     "output_type": "display_data"
    }
   ],
   "source": [
    "data = np.append(svm_c0, svm_c1)\n",
    "data = data.reshape(180,2)\n",
    "labels = np.array([])\n",
    "for i in range(len(svm_c0)):\n",
    "    labels = np.append(labels, 0)\n",
    "for i in range(len(svm_c1)):\n",
    "    labels = np.append(labels, 1)\n",
    "from sklearn.svm import SVC\n",
    "clf_rbf1 = SVC(kernel='rbf', gamma=0.1)\n",
    "clf_rbf1.fit(data, labels)\n",
    "plot_decision_regions(data, labels, classifier=clf_rbf1)\n",
    "plt.legend(loc='upper left')\n",
    "plt.tight_layout()"
   ]
  },
  {
   "cell_type": "code",
   "execution_count": 150,
   "metadata": {},
   "outputs": [
    {
     "name": "stderr",
     "output_type": "stream",
     "text": [
      "'c' argument looks like a single numeric RGB or RGBA sequence, which should be avoided as value-mapping will have precedence in case its length matches with 'x' & 'y'.  Please use a 2-D array with a single row if you really want to specify the same RGB or RGBA value for all points.\n",
      "'c' argument looks like a single numeric RGB or RGBA sequence, which should be avoided as value-mapping will have precedence in case its length matches with 'x' & 'y'.  Please use a 2-D array with a single row if you really want to specify the same RGB or RGBA value for all points.\n"
     ]
    },
    {
     "data": {
      "image/png": "[encoded data removed]",
      "text/plain": [
       "<Figure size 432x288 with 1 Axes>"
      ]
     },
     "metadata": {
      "needs_background": "light"
     },
     "output_type": "display_data"
    }
   ],
   "source": [
    "data = np.append(svm_c0, svm_c1)\n",
    "data = data.reshape(180,2)\n",
    "labels = np.array([])\n",
    "for i in range(len(svm_c0)):\n",
    "    labels = np.append(labels, 0)\n",
    "for i in range(len(svm_c1)):\n",
    "    labels = np.append(labels, 1)\n",
    "from sklearn.svm import SVC\n",
    "clf_rbf2 = SVC(kernel='rbf', gamma=1)\n",
    "clf_rbf2.fit(data, labels)\n",
    "plot_decision_regions(data, labels, classifier=clf_rbf2)\n",
    "plt.legend(loc='upper left')\n",
    "plt.tight_layout()"
   ]
  },
  {
   "cell_type": "code",
   "execution_count": 151,
   "metadata": {},
   "outputs": [
    {
     "name": "stderr",
     "output_type": "stream",
     "text": [
      "'c' argument looks like a single numeric RGB or RGBA sequence, which should be avoided as value-mapping will have precedence in case its length matches with 'x' & 'y'.  Please use a 2-D array with a single row if you really want to specify the same RGB or RGBA value for all points.\n",
      "'c' argument looks like a single numeric RGB or RGBA sequence, which should be avoided as value-mapping will have precedence in case its length matches with 'x' & 'y'.  Please use a 2-D array with a single row if you really want to specify the same RGB or RGBA value for all points.\n"
     ]
    },
    {
     "data": {
      "image/png": "[encoded data removed]",
      "text/plain": [
       "<Figure size 432x288 with 1 Axes>"
      ]
     },
     "metadata": {
      "needs_background": "light"
     },
     "output_type": "display_data"
    }
   ],
   "source": [
    "data = np.append(svm_c0, svm_c1)\n",
    "data = data.reshape(180,2)\n",
    "labels = np.array([])\n",
    "for i in range(len(svm_c0)):\n",
    "    labels = np.append(labels, 0)\n",
    "for i in range(len(svm_c1)):\n",
    "    labels = np.append(labels, 1)\n",
    "from sklearn.svm import SVC\n",
    "clf_rbf3 = SVC(kernel='rbf', gamma=10)\n",
    "clf_rbf3.fit(data, labels)\n",
    "plot_decision_regions(data, labels, classifier=clf_rbf3)\n",
    "plt.legend(loc='upper left')\n",
    "plt.tight_layout()"
   ]
  },
  {
   "cell_type": "code",
   "execution_count": 152,
   "metadata": {},
   "outputs": [
    {
     "name": "stderr",
     "output_type": "stream",
     "text": [
      "'c' argument looks like a single numeric RGB or RGBA sequence, which should be avoided as value-mapping will have precedence in case its length matches with 'x' & 'y'.  Please use a 2-D array with a single row if you really want to specify the same RGB or RGBA value for all points.\n",
      "'c' argument looks like a single numeric RGB or RGBA sequence, which should be avoided as value-mapping will have precedence in case its length matches with 'x' & 'y'.  Please use a 2-D array with a single row if you really want to specify the same RGB or RGBA value for all points.\n"
     ]
    },
    {
     "data": {
      "image/png": "[encoded data removed]",
      "text/plain": [
       "<Figure size 432x288 with 1 Axes>"
      ]
     },
     "metadata": {
      "needs_background": "light"
     },
     "output_type": "display_data"
    }
   ],
   "source": [
    "data = np.append(svm_c0, svm_c1)\n",
    "data = data.reshape(180,2)\n",
    "labels = np.array([])\n",
    "for i in range(len(svm_c0)):\n",
    "    labels = np.append(labels, 0)\n",
    "for i in range(len(svm_c1)):\n",
    "    labels = np.append(labels, 1)\n",
    "from sklearn.svm import SVC\n",
    "clf_rbf4 = SVC(kernel='rbf', gamma=50)\n",
    "clf_rbf4.fit(data, labels)\n",
    "plot_decision_regions(data, labels, classifier=clf_rbf4)\n",
    "plt.legend(loc='upper left')\n",
    "plt.tight_layout()"
   ]
  },
  {
   "cell_type": "markdown",
   "metadata": {},
   "source": [
    "# Take Home"
   ]
  },
  {
   "cell_type": "markdown",
   "metadata": {},
   "source": [
    "**Load the Forest Cover Types dataset from sklearn. 1. Use sklearn's SVM function to classify the data. Do hyperparameter tuning using <br><br> a) C = {0.001,0.01,0.1,1,10,100} <br><br> b) kernel = {'linear','poly','rbf','sigmoid'}. For the polynomial kernel, test with degrees 1,2,3,4,5. For the other kernels, test with gamma values of 0.001,0.01,0.1,1,10,100. <br><br> To do the above exercise of hyperparameter tuning, use the cross validation function in sklearn. Do not perform each experiment separately. <br><br> c) Report the accuracies (F1 scores) of the 5 best cases in a tabular form. <br><br>  d) Plot the confusion matrices of the best 5 cases.<br> e) Comment on the significance of each hyperparameter. <br><br> 2. a) Use sklearn's logistic regression, KNN and Naive Bayes to classify the above dataset. Report the F1 scores and confusion matrices in each case. <br> b) Arrange the 4 classifiers (LR, NB, SVM, KNN) in the decreasing order of F1 scores. Comment on which classifier performs best and why.**"
   ]
  },
  {
   "cell_type": "markdown",
   "metadata": {},
   "source": [
    "**Answer:\n",
    "c)C: Flexibility can be defined by this. A high C tries to minimize the misclassification of training data\n",
    "and a low value tries to maintain a smooth classification.**<br>**Gamma: It is the hyperparamater which defines the narrowness of the gaussian transformation. Small gamma will give you low bias and high variance while a large gamma will give you higher bias and low variance.** <br>\n",
    "**Kernel: This defines the transformation we perform on the raw data to make it linearly separable. Depending on the data we should choose an apropriate kernel**"
   ]
  },
  {
   "cell_type": "code",
   "execution_count": 2,
   "metadata": {},
   "outputs": [],
   "source": [
    "import sklearn\n",
    "from sklearn.datasets import fetch_covtype"
   ]
  },
  {
   "cell_type": "code",
   "execution_count": 3,
   "metadata": {},
   "outputs": [],
   "source": [
    "data = fetch_covtype().data"
   ]
  },
  {
   "cell_type": "code",
   "execution_count": 4,
   "metadata": {},
   "outputs": [],
   "source": [
    "target = fetch_covtype().target"
   ]
  },
  {
   "cell_type": "code",
   "execution_count": 6,
   "metadata": {},
   "outputs": [],
   "source": [
    "X = data[:1000]"
   ]
  },
  {
   "cell_type": "code",
   "execution_count": 7,
   "metadata": {},
   "outputs": [
    {
     "data": {
      "text/plain": [
       "(1000, 54)"
      ]
     },
     "execution_count": 7,
     "metadata": {},
     "output_type": "execute_result"
    }
   ],
   "source": [
    "X.shape"
   ]
  },
  {
   "cell_type": "code",
   "execution_count": 9,
   "metadata": {},
   "outputs": [
    {
     "data": {
      "text/plain": [
       "(581012,)"
      ]
     },
     "execution_count": 9,
     "metadata": {},
     "output_type": "execute_result"
    }
   ],
   "source": [
    "target.shape"
   ]
  },
  {
   "cell_type": "code",
   "execution_count": 48,
   "metadata": {},
   "outputs": [],
   "source": [
    "from sklearn.preprocessing import StandardScaler"
   ]
  },
  {
   "cell_type": "code",
   "execution_count": 51,
   "metadata": {},
   "outputs": [],
   "source": [
    "X_train, X_test, y_train, y_test = train_test_split(data, target, test_size=0.2)"
   ]
  },
  {
   "cell_type": "code",
   "execution_count": 55,
   "metadata": {},
   "outputs": [],
   "source": [
    "scaler = StandardScaler()\n",
    "X_train_CV = scaler.fit_transform(X_train[0:1000,:])\n",
    "y_train_CV = y_train[0:1000]\n",
    "X_test_CV = scaler.fit_transform(X_test[0:1000,:])\n",
    "y_test_CV = y_test[0:1000]"
   ]
  },
  {
   "cell_type": "code",
   "execution_count": 56,
   "metadata": {},
   "outputs": [
    {
     "name": "stderr",
     "output_type": "stream",
     "text": [
      "/home/vishnu/anaconda3/lib/python3.7/site-packages/sklearn/model_selection/_split.py:657: Warning: The least populated class in y has only 1 members, which is too few. The minimum number of members in any class cannot be less than n_splits=5.\n",
      "  % (min_groups, self.n_splits)), Warning)\n",
      "/home/vishnu/anaconda3/lib/python3.7/site-packages/sklearn/model_selection/_search.py:813: DeprecationWarning: The default of the `iid` parameter will change from True to False in version 0.22 and will be removed in 0.24. This will change numeric results when test-set sizes are unequal.\n",
      "  DeprecationWarning)\n"
     ]
    },
    {
     "data": {
      "text/plain": [
       "GridSearchCV(cv=5, error_score='raise-deprecating',\n",
       "             estimator=SVC(C=1.0, cache_size=200, class_weight=None, coef0=0.0,\n",
       "                           decision_function_shape='ovr', degree=3,\n",
       "                           gamma='auto_deprecated', kernel='rbf', max_iter=-1,\n",
       "                           probability=False, random_state=None, shrinking=True,\n",
       "                           tol=0.001, verbose=False),\n",
       "             iid='warn', n_jobs=-1,\n",
       "             param_grid=[{'C': [0.001, 0.01, 0.1, 1, 10, 100],\n",
       "                          'kernel': ['linear']},\n",
       "                         {'C': [0.001, 0.01, 0.1, 1, 10, 100],\n",
       "                          'degree': [1, 2, 3, 4, 5], 'kernel': ['poly']},\n",
       "                         {'C': [0.001, 0.01, 0.1, 1, 10, 100],\n",
       "                          'gamma': [0.001, 0.01, 0.1, 1, 10, 100],\n",
       "                          'kernel': ['rbf']},\n",
       "                         {'C': [0.001, 0.01, 0.1, 1, 10, 100],\n",
       "                          'gamma': [0.001, 0.01, 0.1, 1, 10, 100],\n",
       "                          'kernel': ['sigmoid']}],\n",
       "             pre_dispatch='2*n_jobs', refit=True, return_train_score=False,\n",
       "             scoring=None, verbose=0)"
      ]
     },
     "execution_count": 56,
     "metadata": {},
     "output_type": "execute_result"
    }
   ],
   "source": [
    "from sklearn.model_selection import GridSearchCV\n",
    "from sklearn.svm import SVC\n",
    "grid = [{'C': [0.001,0.01,0.1,1,10,100],'kernel': ['linear']},{'C': [0.001,0.01,0.1,1,10,100],'degree':[1,2,3,4,5], 'kernel': ['poly']},{'C': [0.001,0.01,0.1,1,10,100], 'gamma': [0.001,0.01,0.1,1,10,100], 'kernel': ['rbf']},{'C': [0.001,0.01,0.1,1,10,100], 'gamma': [0.001,0.01,0.1,1,10,100], 'kernel': ['sigmoid']}]\n",
    "clf = GridSearchCV(estimator=SVC(), cv = 5, param_grid=grid, n_jobs=-1)\n",
    "clf.fit(X_train_CV, y_train_CV)"
   ]
  },
  {
   "cell_type": "code",
   "execution_count": 57,
   "metadata": {},
   "outputs": [
    {
     "data": {
      "text/html": [
       "<div>\n",
       "<style scoped>\n",
       "    .dataframe tbody tr th:only-of-type {\n",
       "        vertical-align: middle;\n",
       "    }\n",
       "\n",
       "    .dataframe tbody tr th {\n",
       "        vertical-align: top;\n",
       "    }\n",
       "\n",
       "    .dataframe thead th {\n",
       "        text-align: right;\n",
       "    }\n",
       "</style>\n",
       "<table border=\"1\" class=\"dataframe\">\n",
       "  <thead>\n",
       "    <tr style=\"text-align: right;\">\n",
       "      <th></th>\n",
       "      <th>Rank</th>\n",
       "      <th>Model Params</th>\n",
       "      <th>Score</th>\n",
       "    </tr>\n",
       "  </thead>\n",
       "  <tbody>\n",
       "    <tr>\n",
       "      <th>31</th>\n",
       "      <td>1</td>\n",
       "      <td>{'C': 100, 'degree': 1, 'kernel': 'poly'}</td>\n",
       "      <td>0.693</td>\n",
       "    </tr>\n",
       "    <tr>\n",
       "      <th>3</th>\n",
       "      <td>1</td>\n",
       "      <td>{'C': 1, 'kernel': 'linear'}</td>\n",
       "      <td>0.693</td>\n",
       "    </tr>\n",
       "    <tr>\n",
       "      <th>26</th>\n",
       "      <td>3</td>\n",
       "      <td>{'C': 10, 'degree': 1, 'kernel': 'poly'}</td>\n",
       "      <td>0.691</td>\n",
       "    </tr>\n",
       "    <tr>\n",
       "      <th>102</th>\n",
       "      <td>4</td>\n",
       "      <td>{'C': 100, 'gamma': 0.001, 'kernel': 'sigmoid'}</td>\n",
       "      <td>0.687</td>\n",
       "    </tr>\n",
       "    <tr>\n",
       "      <th>2</th>\n",
       "      <td>5</td>\n",
       "      <td>{'C': 0.1, 'kernel': 'linear'}</td>\n",
       "      <td>0.686</td>\n",
       "    </tr>\n",
       "  </tbody>\n",
       "</table>\n",
       "</div>"
      ],
      "text/plain": [
       "     Rank                                     Model Params  Score\n",
       "31      1        {'C': 100, 'degree': 1, 'kernel': 'poly'}  0.693\n",
       "3       1                     {'C': 1, 'kernel': 'linear'}  0.693\n",
       "26      3         {'C': 10, 'degree': 1, 'kernel': 'poly'}  0.691\n",
       "102     4  {'C': 100, 'gamma': 0.001, 'kernel': 'sigmoid'}  0.687\n",
       "2       5                   {'C': 0.1, 'kernel': 'linear'}  0.686"
      ]
     },
     "execution_count": 57,
     "metadata": {},
     "output_type": "execute_result"
    }
   ],
   "source": [
    "import pandas as pd\n",
    "rank = clf.cv_results_['rank_test_score']\n",
    "parameters = clf.cv_results_['params']\n",
    "acc = clf.cv_results_['mean_test_score']\n",
    "result = pd.DataFrame({'Rank':rank,'Model Params':parameters,'Score':acc})\n",
    "result = result.sort_values(by='Rank',axis=0)\n",
    "result[:5][:]"
   ]
  },
  {
   "cell_type": "code",
   "execution_count": 58,
   "metadata": {},
   "outputs": [
    {
     "name": "stdout",
     "output_type": "stream",
     "text": [
      "Confusion matrix for params: {C: 100, kernel: poly, degree:1}\n"
     ]
    },
    {
     "name": "stderr",
     "output_type": "stream",
     "text": [
      "/home/vishnu/anaconda3/lib/python3.7/site-packages/sklearn/svm/base.py:193: FutureWarning: The default value of gamma will change from 'auto' to 'scale' in version 0.22 to account better for unscaled features. Set gamma explicitly to 'auto' or 'scale' to avoid this warning.\n",
      "  \"avoid this warning.\", FutureWarning)\n"
     ]
    },
    {
     "data": {
      "text/plain": [
       "array([[246,  92,   0,   0,   0,   2,   5],\n",
       "       [111, 376,   3,   0,   0,   4,   0],\n",
       "       [  0,  19,  36,   0,   0,   9,   0],\n",
       "       [  0,   0,   4,   0,   0,   2,   0],\n",
       "       [  0,  19,   1,   0,   0,   0,   0],\n",
       "       [  0,  14,   9,   0,   0,   8,   0],\n",
       "       [ 19,   0,   0,   0,   0,   0,  21]])"
      ]
     },
     "execution_count": 58,
     "metadata": {},
     "output_type": "execute_result"
    }
   ],
   "source": [
    "print('Confusion matrix for params: {C: 100, kernel: poly, degree:1}')\n",
    "clf = SVC(C= 100, kernel= 'poly', degree=1)\n",
    "clf.fit(X_train_CV,y_train_CV)\n",
    "y_pred =clf.predict(X_test_CV)\n",
    "confusion_matrix(y_test_CV,y_pred)"
   ]
  },
  {
   "cell_type": "code",
   "execution_count": 62,
   "metadata": {},
   "outputs": [
    {
     "name": "stdout",
     "output_type": "stream",
     "text": [
      "Confusion matrix for params: {C: 100, kernel: sigmoid, gamma:0.001}\n"
     ]
    },
    {
     "data": {
      "text/plain": [
       "array([[242,  95,   0,   0,   0,   0,   8],\n",
       "       [104, 372,  11,   0,   0,   7,   0],\n",
       "       [  0,   7,  45,   0,   0,  12,   0],\n",
       "       [  0,   0,   5,   0,   0,   1,   0],\n",
       "       [  0,  18,   2,   0,   0,   0,   0],\n",
       "       [  0,  11,   8,   0,   0,  12,   0],\n",
       "       [ 21,   0,   0,   0,   0,   0,  19]])"
      ]
     },
     "execution_count": 62,
     "metadata": {},
     "output_type": "execute_result"
    }
   ],
   "source": [
    "print('Confusion matrix for params: {C: 100, kernel: sigmoid, gamma:0.001}')\n",
    "clf = SVC(C= 100, kernel= 'sigmoid', gamma=0.001)\n",
    "clf.fit(X_train_CV,y_train_CV)\n",
    "y_pred =clf.predict(X_test_CV)\n",
    "confusion_matrix(y_test_CV,y_pred)"
   ]
  },
  {
   "cell_type": "code",
   "execution_count": 60,
   "metadata": {},
   "outputs": [
    {
     "name": "stdout",
     "output_type": "stream",
     "text": [
      "Confusion matrix for params: {C: 10, kernel: poly, degree:1}\n"
     ]
    },
    {
     "name": "stderr",
     "output_type": "stream",
     "text": [
      "/home/vishnu/anaconda3/lib/python3.7/site-packages/sklearn/svm/base.py:193: FutureWarning: The default value of gamma will change from 'auto' to 'scale' in version 0.22 to account better for unscaled features. Set gamma explicitly to 'auto' or 'scale' to avoid this warning.\n",
      "  \"avoid this warning.\", FutureWarning)\n"
     ]
    },
    {
     "data": {
      "text/plain": [
       "array([[243,  93,   0,   0,   0,   1,   8],\n",
       "       [108, 369,  10,   0,   0,   7,   0],\n",
       "       [  0,  10,  42,   0,   0,  12,   0],\n",
       "       [  0,   0,   5,   0,   0,   1,   0],\n",
       "       [  0,  18,   2,   0,   0,   0,   0],\n",
       "       [  1,  11,   7,   0,   0,  12,   0],\n",
       "       [ 23,   0,   0,   0,   0,   0,  17]])"
      ]
     },
     "execution_count": 60,
     "metadata": {},
     "output_type": "execute_result"
    }
   ],
   "source": [
    "print('Confusion matrix for params: {C: 10, kernel: poly, degree:1}')\n",
    "clf = SVC(C= 10, kernel= 'poly', degree=1)\n",
    "clf.fit(X_train_CV,y_train_CV)\n",
    "y_pred =clf.predict(X_test_CV)\n",
    "confusion_matrix(y_test_CV,y_pred)"
   ]
  },
  {
   "cell_type": "code",
   "execution_count": 64,
   "metadata": {},
   "outputs": [
    {
     "name": "stdout",
     "output_type": "stream",
     "text": [
      "Confusion matrix for params: {C: 0.1, kernel: linear}\n"
     ]
    },
    {
     "data": {
      "text/plain": [
       "array([[243,  95,   0,   0,   0,   0,   7],\n",
       "       [104, 372,  11,   0,   0,   7,   0],\n",
       "       [  0,   7,  45,   0,   0,  12,   0],\n",
       "       [  0,   0,   5,   0,   0,   1,   0],\n",
       "       [  0,  18,   2,   0,   0,   0,   0],\n",
       "       [  0,  11,   8,   0,   0,  12,   0],\n",
       "       [ 22,   0,   0,   0,   0,   0,  18]])"
      ]
     },
     "execution_count": 64,
     "metadata": {},
     "output_type": "execute_result"
    }
   ],
   "source": [
    "print('Confusion matrix for params: {C: 0.1, kernel: linear}')\n",
    "clf = SVC(C= 0.1, kernel= 'linear')\n",
    "clf.fit(X_train_CV,y_train_CV)\n",
    "y_pred =clf.predict(X_test_CV)\n",
    "confusion_matrix(y_test_CV,y_pred)"
   ]
  },
  {
   "cell_type": "code",
   "execution_count": 63,
   "metadata": {},
   "outputs": [
    {
     "name": "stdout",
     "output_type": "stream",
     "text": [
      "Confusion matrix for params: {C: 1, kernel: linear}\n"
     ]
    },
    {
     "data": {
      "text/plain": [
       "array([[246,  93,   0,   0,   0,   2,   4],\n",
       "       [109, 376,   5,   0,   0,   3,   1],\n",
       "       [  0,  22,  33,   0,   0,   9,   0],\n",
       "       [  0,   0,   5,   0,   0,   1,   0],\n",
       "       [  0,  18,   2,   0,   0,   0,   0],\n",
       "       [  0,  15,   9,   0,   0,   7,   0],\n",
       "       [ 19,   0,   0,   0,   0,   0,  21]])"
      ]
     },
     "execution_count": 63,
     "metadata": {},
     "output_type": "execute_result"
    }
   ],
   "source": [
    "print('Confusion matrix for params: {C: 1, kernel: linear}')\n",
    "clf = SVC(C= 1, kernel= 'linear')\n",
    "clf.fit(X_train_CV,y_train_CV)\n",
    "y_pred =clf.predict(X_test_CV)\n",
    "confusion_matrix(y_test_CV,y_pred)"
   ]
  },
  {
   "cell_type": "code",
   "execution_count": 65,
   "metadata": {},
   "outputs": [],
   "source": [
    "from sklearn import datasets, linear_model\n",
    "from sklearn.model_selection import cross_validate, cross_val_score\n",
    "from sklearn.metrics.scorer import make_scorer\n",
    "from sklearn.metrics import confusion_matrix\n",
    "from sklearn.svm import SVC"
   ]
  },
  {
   "cell_type": "code",
   "execution_count": 112,
   "metadata": {},
   "outputs": [
    {
     "name": "stdout",
     "output_type": "stream",
     "text": [
      "Train accuracy: 0.17\n",
      "Test accuracy: 0.53\n",
      "0.4035998922349983\n",
      "[[ 25 317   0   0   0   0   3]\n",
      " [  1 493   0   0   0   0   0]\n",
      " [  0  59   0   0   0   5   0]\n",
      " [  0   6   0   0   0   0   0]\n",
      " [  0  20   0   0   0   0   0]\n",
      " [  0  26   0   0   0   5   0]\n",
      " [ 17  16   0   0   0   0   7]]\n"
     ]
    },
    {
     "name": "stderr",
     "output_type": "stream",
     "text": [
      "/home/vishnu/anaconda3/lib/python3.7/site-packages/sklearn/metrics/classification.py:1437: UndefinedMetricWarning: F-score is ill-defined and being set to 0.0 in labels with no predicted samples.\n",
      "  'precision', 'predicted', average, warn_for)\n"
     ]
    }
   ],
   "source": [
    "from sklearn.naive_bayes import GaussianNB\n",
    "clf = GaussianNB()\n",
    "clf.fit(X_train_CV, y_train_CV)\n",
    "y_pred = clf.predict(X_test_CV)\n",
    "print (\"Train accuracy:\", clf.score(X_train_CV,y_train_CV))\n",
    "print (\"Test accuracy:\",clf.score(X_test_CV,y_test_CV))\n",
    "f1 = f1_score(y_test_CV, y_pred, average='weighted')\n",
    "print(f1)\n",
    "results = confusion_matrix(y_test_CV, y_pred)\n",
    "print(results)"
   ]
  },
  {
   "cell_type": "code",
   "execution_count": 117,
   "metadata": {},
   "outputs": [
    {
     "name": "stdout",
     "output_type": "stream",
     "text": [
      "Train accuracy: 0.17\n",
      "Test accuracy: 0.53\n",
      "0.6003060550069399\n",
      "[[188 154   0   0   0   0   3]\n",
      " [112 365  11   0   1   5   0]\n",
      " [  0   7  46   0   0  11   0]\n",
      " [  0   1   5   0   0   0   0]\n",
      " [  3  15   2   0   0   0   0]\n",
      " [  3  10  10   0   0   8   0]\n",
      " [ 27   4   0   0   0   0   9]]\n"
     ]
    },
    {
     "name": "stderr",
     "output_type": "stream",
     "text": [
      "/home/vishnu/anaconda3/lib/python3.7/site-packages/sklearn/metrics/classification.py:1437: UndefinedMetricWarning: F-score is ill-defined and being set to 0.0 in labels with no predicted samples.\n",
      "  'precision', 'predicted', average, warn_for)\n"
     ]
    }
   ],
   "source": [
    "from sklearn.neighbors import KNeighborsClassifier\n",
    "neigh = KNeighborsClassifier(n_neighbors=7)\n",
    "neigh.fit(X_train_CV, y_train_CV)\n",
    "y_pred = neigh.predict(X_test_CV)\n",
    "print (\"Train accuracy:\", clf.score(X_train_CV,y_train_CV))\n",
    "print (\"Test accuracy:\",clf.score(X_test_CV,y_test_CV))\n",
    "f1 = f1_score(y_test_CV, y_pred, average='weighted')\n",
    "print(f1)\n",
    "results = confusion_matrix(y_test_CV, y_pred)\n",
    "print(results)"
   ]
  },
  {
   "cell_type": "code",
   "execution_count": 118,
   "metadata": {},
   "outputs": [
    {
     "name": "stderr",
     "output_type": "stream",
     "text": [
      "/home/vishnu/anaconda3/lib/python3.7/site-packages/sklearn/linear_model/logistic.py:432: FutureWarning: Default solver will be changed to 'lbfgs' in 0.22. Specify a solver to silence this warning.\n",
      "  FutureWarning)\n",
      "/home/vishnu/anaconda3/lib/python3.7/site-packages/sklearn/linear_model/logistic.py:469: FutureWarning: Default multi_class will be changed to 'auto' in 0.22. Specify the multi_class option to silence this warning.\n",
      "  \"this warning.\", FutureWarning)\n"
     ]
    },
    {
     "name": "stdout",
     "output_type": "stream",
     "text": [
      "Train accuracy: 0.718\n",
      "Test accuracy: 0.674\n",
      "0.6639649647420395\n",
      "[[230 105   0   0   0   0  10]\n",
      " [ 96 376  10   0   2   8   2]\n",
      " [  0   9  43   0   0  12   0]\n",
      " [  0   0   5   0   0   1   0]\n",
      " [  0  18   0   0   0   2   0]\n",
      " [  0  14  11   0   0   6   0]\n",
      " [ 21   0   0   0   0   0  19]]\n"
     ]
    },
    {
     "name": "stderr",
     "output_type": "stream",
     "text": [
      "/home/vishnu/anaconda3/lib/python3.7/site-packages/sklearn/metrics/classification.py:1437: UndefinedMetricWarning: F-score is ill-defined and being set to 0.0 in labels with no predicted samples.\n",
      "  'precision', 'predicted', average, warn_for)\n"
     ]
    }
   ],
   "source": [
    "from sklearn.linear_model import LogisticRegression\n",
    "logreg = LogisticRegression() \n",
    "logreg.fit(X_train_CV, y_train_CV)\n",
    "y_pred = logreg.predict(X_test_CV)\n",
    "print (\"Train accuracy:\", logreg.score(X_train_CV,y_train_CV))\n",
    "print (\"Test accuracy:\",logreg.score(X_test_CV,y_test_CV))\n",
    "f1 = f1_score(y_test_CV, y_pred, average='weighted')\n",
    "print(f1)\n",
    "results = confusion_matrix(y_test_CV, y_pred)\n",
    "print(results)\n"
   ]
  },
  {
   "cell_type": "markdown",
   "metadata": {},
   "source": [
    "**Order of models(according to Accuracy):<br>\n",
    "1) SVM<br>\n",
    "2) LR<br>\n",
    "3) KNN<br>\n",
    "4) NB**<br>\n",
    "(Only 1000 data points taken for SVM)"
   ]
  },
  {
   "cell_type": "markdown",
   "metadata": {},
   "source": [
    "**According to dataset, SVM performs the best. One of the main reason could be high fleixibitly in parameters which fits the data properly. Also features are also quite sepearble lin SVM**"
   ]
  },
  {
   "cell_type": "code",
   "execution_count": null,
   "metadata": {},
   "outputs": [],
   "source": []
  }
 ],
 "metadata": {
  "colab": {
   "collapsed_sections": [],
   "name": "Lab8_DataAnalytics.ipynb",
   "provenance": []
  },
  "kernelspec": {
   "display_name": "Python 3",
   "language": "python",
   "name": "python3"
  },
  "language_info": {
   "codemirror_mode": {
    "name": "ipython",
    "version": 3
   },
   "file_extension": ".py",
   "mimetype": "text/x-python",
   "name": "python",
   "nbconvert_exporter": "python",
   "pygments_lexer": "ipython3",
   "version": "3.7.3"
  }
 },
 "nbformat": 4,
 "nbformat_minor": 1
}
